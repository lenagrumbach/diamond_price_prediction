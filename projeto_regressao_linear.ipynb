{
  "nbformat": 4,
  "nbformat_minor": 0,
  "metadata": {
    "colab": {
      "provenance": [],
      "authorship_tag": "ABX9TyPLfGiiUwOT5JZl42Cfq4zz",
      "include_colab_link": true
    },
    "kernelspec": {
      "name": "python3",
      "display_name": "Python 3"
    },
    "language_info": {
      "name": "python"
    }
  },
  "cells": [
    {
      "cell_type": "markdown",
      "metadata": {
        "id": "view-in-github",
        "colab_type": "text"
      },
      "source": [
        "<a href=\"https://colab.research.google.com/github/lenagrumbach/projeto_regressao_linear/blob/first_tests_completed/projeto_regressao_linear.ipynb\" target=\"_parent\"><img src=\"https://colab.research.google.com/assets/colab-badge.svg\" alt=\"Open In Colab\"/></a>"
      ]
    },
    {
      "cell_type": "markdown",
      "source": [
        "##Import Libraries"
      ],
      "metadata": {
        "id": "EE_nev39JHTa"
      }
    },
    {
      "cell_type": "code",
      "execution_count": 1,
      "metadata": {
        "id": "m-bH8IMREgYm"
      },
      "outputs": [],
      "source": [
        "import pandas as pd\n",
        "import matplotlib.pyplot as plt\n",
        "import seaborn as sns\n",
        "import numpy as np\n",
        "from sklearn.linear_model import LinearRegression\n",
        "import re\n",
        "pd.options.display.float_format = '{:,.2f}'.format"
      ]
    },
    {
      "cell_type": "markdown",
      "source": [
        "##Import Data"
      ],
      "metadata": {
        "id": "o8Obr_6mJPVZ"
      }
    },
    {
      "cell_type": "code",
      "source": [
        "from google.colab import drive\n",
        " \n",
        "drive.mount('/drive')"
      ],
      "metadata": {
        "colab": {
          "base_uri": "https://localhost:8080/"
        },
        "id": "gElcArwmEl-q",
        "outputId": "359e8322-3910-49a6-85ea-4d15c6186951"
      },
      "execution_count": 2,
      "outputs": [
        {
          "output_type": "stream",
          "name": "stdout",
          "text": [
            "Drive already mounted at /drive; to attempt to forcibly remount, call drive.mount(\"/drive\", force_remount=True).\n"
          ]
        }
      ]
    },
    {
      "cell_type": "markdown",
      "source": [
        "##Exploratory Data Analysis (EDA)"
      ],
      "metadata": {
        "id": "nPzELLfxJalN"
      }
    },
    {
      "cell_type": "code",
      "source": [
        "df_diamonds = pd.read_csv('/drive/MyDrive/Diamantes/diamonds.csv')\n",
        "display(df_diamonds)"
      ],
      "metadata": {
        "colab": {
          "base_uri": "https://localhost:8080/",
          "height": 423
        },
        "id": "ypo8CXJTEmE7",
        "outputId": "63db1359-a195-440d-ab3b-dadb27d8cadb"
      },
      "execution_count": 3,
      "outputs": [
        {
          "output_type": "display_data",
          "data": {
            "text/plain": [
              "       carat        cut color clarity  depth  table  price    x    y    z\n",
              "0       0.21    Premium     E     SI1  59.80  61.00    326 3.89 3.84 2.31\n",
              "1       0.23       Good     E     VS1  56.90  65.00    327 4.05 4.07 2.31\n",
              "2       0.29    Premium     I     VS2  62.40  58.00    334 4.20 4.23 2.63\n",
              "3       0.31       Good     J     SI2  63.30  58.00    335 4.34 4.35 2.75\n",
              "4       0.24  Very Good     J    VVS2  62.80  57.00    336 3.94 3.96 2.48\n",
              "...      ...        ...   ...     ...    ...    ...    ...  ...  ...  ...\n",
              "48935   0.72    Premium     D     SI1  62.70  59.00   2757 5.69 5.73 3.58\n",
              "48936   0.72      Ideal     D     SI1  60.80  57.00   2757 5.75 5.76 3.50\n",
              "48937   0.72       Good     D     SI1  63.10  55.00   2757 5.69 5.75 3.61\n",
              "48938   0.70  Very Good     D     SI1  62.80  60.00   2757 5.66 5.68 3.56\n",
              "48939   0.75      Ideal     D     SI2  62.20  55.00   2757 5.83 5.87 3.64\n",
              "\n",
              "[48940 rows x 10 columns]"
            ],
            "text/html": [
              "\n",
              "  <div id=\"df-d1a74642-e418-451d-a2c7-d845130a97d3\">\n",
              "    <div class=\"colab-df-container\">\n",
              "      <div>\n",
              "<style scoped>\n",
              "    .dataframe tbody tr th:only-of-type {\n",
              "        vertical-align: middle;\n",
              "    }\n",
              "\n",
              "    .dataframe tbody tr th {\n",
              "        vertical-align: top;\n",
              "    }\n",
              "\n",
              "    .dataframe thead th {\n",
              "        text-align: right;\n",
              "    }\n",
              "</style>\n",
              "<table border=\"1\" class=\"dataframe\">\n",
              "  <thead>\n",
              "    <tr style=\"text-align: right;\">\n",
              "      <th></th>\n",
              "      <th>carat</th>\n",
              "      <th>cut</th>\n",
              "      <th>color</th>\n",
              "      <th>clarity</th>\n",
              "      <th>depth</th>\n",
              "      <th>table</th>\n",
              "      <th>price</th>\n",
              "      <th>x</th>\n",
              "      <th>y</th>\n",
              "      <th>z</th>\n",
              "    </tr>\n",
              "  </thead>\n",
              "  <tbody>\n",
              "    <tr>\n",
              "      <th>0</th>\n",
              "      <td>0.21</td>\n",
              "      <td>Premium</td>\n",
              "      <td>E</td>\n",
              "      <td>SI1</td>\n",
              "      <td>59.80</td>\n",
              "      <td>61.00</td>\n",
              "      <td>326</td>\n",
              "      <td>3.89</td>\n",
              "      <td>3.84</td>\n",
              "      <td>2.31</td>\n",
              "    </tr>\n",
              "    <tr>\n",
              "      <th>1</th>\n",
              "      <td>0.23</td>\n",
              "      <td>Good</td>\n",
              "      <td>E</td>\n",
              "      <td>VS1</td>\n",
              "      <td>56.90</td>\n",
              "      <td>65.00</td>\n",
              "      <td>327</td>\n",
              "      <td>4.05</td>\n",
              "      <td>4.07</td>\n",
              "      <td>2.31</td>\n",
              "    </tr>\n",
              "    <tr>\n",
              "      <th>2</th>\n",
              "      <td>0.29</td>\n",
              "      <td>Premium</td>\n",
              "      <td>I</td>\n",
              "      <td>VS2</td>\n",
              "      <td>62.40</td>\n",
              "      <td>58.00</td>\n",
              "      <td>334</td>\n",
              "      <td>4.20</td>\n",
              "      <td>4.23</td>\n",
              "      <td>2.63</td>\n",
              "    </tr>\n",
              "    <tr>\n",
              "      <th>3</th>\n",
              "      <td>0.31</td>\n",
              "      <td>Good</td>\n",
              "      <td>J</td>\n",
              "      <td>SI2</td>\n",
              "      <td>63.30</td>\n",
              "      <td>58.00</td>\n",
              "      <td>335</td>\n",
              "      <td>4.34</td>\n",
              "      <td>4.35</td>\n",
              "      <td>2.75</td>\n",
              "    </tr>\n",
              "    <tr>\n",
              "      <th>4</th>\n",
              "      <td>0.24</td>\n",
              "      <td>Very Good</td>\n",
              "      <td>J</td>\n",
              "      <td>VVS2</td>\n",
              "      <td>62.80</td>\n",
              "      <td>57.00</td>\n",
              "      <td>336</td>\n",
              "      <td>3.94</td>\n",
              "      <td>3.96</td>\n",
              "      <td>2.48</td>\n",
              "    </tr>\n",
              "    <tr>\n",
              "      <th>...</th>\n",
              "      <td>...</td>\n",
              "      <td>...</td>\n",
              "      <td>...</td>\n",
              "      <td>...</td>\n",
              "      <td>...</td>\n",
              "      <td>...</td>\n",
              "      <td>...</td>\n",
              "      <td>...</td>\n",
              "      <td>...</td>\n",
              "      <td>...</td>\n",
              "    </tr>\n",
              "    <tr>\n",
              "      <th>48935</th>\n",
              "      <td>0.72</td>\n",
              "      <td>Premium</td>\n",
              "      <td>D</td>\n",
              "      <td>SI1</td>\n",
              "      <td>62.70</td>\n",
              "      <td>59.00</td>\n",
              "      <td>2757</td>\n",
              "      <td>5.69</td>\n",
              "      <td>5.73</td>\n",
              "      <td>3.58</td>\n",
              "    </tr>\n",
              "    <tr>\n",
              "      <th>48936</th>\n",
              "      <td>0.72</td>\n",
              "      <td>Ideal</td>\n",
              "      <td>D</td>\n",
              "      <td>SI1</td>\n",
              "      <td>60.80</td>\n",
              "      <td>57.00</td>\n",
              "      <td>2757</td>\n",
              "      <td>5.75</td>\n",
              "      <td>5.76</td>\n",
              "      <td>3.50</td>\n",
              "    </tr>\n",
              "    <tr>\n",
              "      <th>48937</th>\n",
              "      <td>0.72</td>\n",
              "      <td>Good</td>\n",
              "      <td>D</td>\n",
              "      <td>SI1</td>\n",
              "      <td>63.10</td>\n",
              "      <td>55.00</td>\n",
              "      <td>2757</td>\n",
              "      <td>5.69</td>\n",
              "      <td>5.75</td>\n",
              "      <td>3.61</td>\n",
              "    </tr>\n",
              "    <tr>\n",
              "      <th>48938</th>\n",
              "      <td>0.70</td>\n",
              "      <td>Very Good</td>\n",
              "      <td>D</td>\n",
              "      <td>SI1</td>\n",
              "      <td>62.80</td>\n",
              "      <td>60.00</td>\n",
              "      <td>2757</td>\n",
              "      <td>5.66</td>\n",
              "      <td>5.68</td>\n",
              "      <td>3.56</td>\n",
              "    </tr>\n",
              "    <tr>\n",
              "      <th>48939</th>\n",
              "      <td>0.75</td>\n",
              "      <td>Ideal</td>\n",
              "      <td>D</td>\n",
              "      <td>SI2</td>\n",
              "      <td>62.20</td>\n",
              "      <td>55.00</td>\n",
              "      <td>2757</td>\n",
              "      <td>5.83</td>\n",
              "      <td>5.87</td>\n",
              "      <td>3.64</td>\n",
              "    </tr>\n",
              "  </tbody>\n",
              "</table>\n",
              "<p>48940 rows × 10 columns</p>\n",
              "</div>\n",
              "      <button class=\"colab-df-convert\" onclick=\"convertToInteractive('df-d1a74642-e418-451d-a2c7-d845130a97d3')\"\n",
              "              title=\"Convert this dataframe to an interactive table.\"\n",
              "              style=\"display:none;\">\n",
              "        \n",
              "  <svg xmlns=\"http://www.w3.org/2000/svg\" height=\"24px\"viewBox=\"0 0 24 24\"\n",
              "       width=\"24px\">\n",
              "    <path d=\"M0 0h24v24H0V0z\" fill=\"none\"/>\n",
              "    <path d=\"M18.56 5.44l.94 2.06.94-2.06 2.06-.94-2.06-.94-.94-2.06-.94 2.06-2.06.94zm-11 1L8.5 8.5l.94-2.06 2.06-.94-2.06-.94L8.5 2.5l-.94 2.06-2.06.94zm10 10l.94 2.06.94-2.06 2.06-.94-2.06-.94-.94-2.06-.94 2.06-2.06.94z\"/><path d=\"M17.41 7.96l-1.37-1.37c-.4-.4-.92-.59-1.43-.59-.52 0-1.04.2-1.43.59L10.3 9.45l-7.72 7.72c-.78.78-.78 2.05 0 2.83L4 21.41c.39.39.9.59 1.41.59.51 0 1.02-.2 1.41-.59l7.78-7.78 2.81-2.81c.8-.78.8-2.07 0-2.86zM5.41 20L4 18.59l7.72-7.72 1.47 1.35L5.41 20z\"/>\n",
              "  </svg>\n",
              "      </button>\n",
              "      \n",
              "  <style>\n",
              "    .colab-df-container {\n",
              "      display:flex;\n",
              "      flex-wrap:wrap;\n",
              "      gap: 12px;\n",
              "    }\n",
              "\n",
              "    .colab-df-convert {\n",
              "      background-color: #E8F0FE;\n",
              "      border: none;\n",
              "      border-radius: 50%;\n",
              "      cursor: pointer;\n",
              "      display: none;\n",
              "      fill: #1967D2;\n",
              "      height: 32px;\n",
              "      padding: 0 0 0 0;\n",
              "      width: 32px;\n",
              "    }\n",
              "\n",
              "    .colab-df-convert:hover {\n",
              "      background-color: #E2EBFA;\n",
              "      box-shadow: 0px 1px 2px rgba(60, 64, 67, 0.3), 0px 1px 3px 1px rgba(60, 64, 67, 0.15);\n",
              "      fill: #174EA6;\n",
              "    }\n",
              "\n",
              "    [theme=dark] .colab-df-convert {\n",
              "      background-color: #3B4455;\n",
              "      fill: #D2E3FC;\n",
              "    }\n",
              "\n",
              "    [theme=dark] .colab-df-convert:hover {\n",
              "      background-color: #434B5C;\n",
              "      box-shadow: 0px 1px 3px 1px rgba(0, 0, 0, 0.15);\n",
              "      filter: drop-shadow(0px 1px 2px rgba(0, 0, 0, 0.3));\n",
              "      fill: #FFFFFF;\n",
              "    }\n",
              "  </style>\n",
              "\n",
              "      <script>\n",
              "        const buttonEl =\n",
              "          document.querySelector('#df-d1a74642-e418-451d-a2c7-d845130a97d3 button.colab-df-convert');\n",
              "        buttonEl.style.display =\n",
              "          google.colab.kernel.accessAllowed ? 'block' : 'none';\n",
              "\n",
              "        async function convertToInteractive(key) {\n",
              "          const element = document.querySelector('#df-d1a74642-e418-451d-a2c7-d845130a97d3');\n",
              "          const dataTable =\n",
              "            await google.colab.kernel.invokeFunction('convertToInteractive',\n",
              "                                                     [key], {});\n",
              "          if (!dataTable) return;\n",
              "\n",
              "          const docLinkHtml = 'Like what you see? Visit the ' +\n",
              "            '<a target=\"_blank\" href=https://colab.research.google.com/notebooks/data_table.ipynb>data table notebook</a>'\n",
              "            + ' to learn more about interactive tables.';\n",
              "          element.innerHTML = '';\n",
              "          dataTable['output_type'] = 'display_data';\n",
              "          await google.colab.output.renderOutput(dataTable, element);\n",
              "          const docLink = document.createElement('div');\n",
              "          docLink.innerHTML = docLinkHtml;\n",
              "          element.appendChild(docLink);\n",
              "        }\n",
              "      </script>\n",
              "    </div>\n",
              "  </div>\n",
              "  "
            ]
          },
          "metadata": {}
        }
      ]
    },
    {
      "cell_type": "code",
      "source": [
        "df_rick_diamonds = pd.read_csv('/drive/MyDrive/Diamantes/rick_diamonds.csv')\n",
        "display(df_rick_diamonds)"
      ],
      "metadata": {
        "colab": {
          "base_uri": "https://localhost:8080/",
          "height": 423
        },
        "id": "7lGPl3qxEmB1",
        "outputId": "da4ef414-bfeb-4757-f8b2-344860eac944"
      },
      "execution_count": 4,
      "outputs": [
        {
          "output_type": "display_data",
          "data": {
            "text/plain": [
              "      carat        cut color clarity  depth  table    x    y    z\n",
              "0      0.91  Very Good     H     SI2  63.40  57.00 6.10 6.18 3.89\n",
              "1      0.38       Good     F     VS2  60.30  61.00 4.68 4.71 2.83\n",
              "2      0.52      Ideal     H     VS2  61.80  56.00 5.19 5.16 3.20\n",
              "3      1.10      Ideal     G     VS1  61.30  56.00 6.65 6.69 4.09\n",
              "4      2.28      Ideal     G     SI2  61.60  57.00 8.44 8.37 5.18\n",
              "...     ...        ...   ...     ...    ...    ...  ...  ...  ...\n",
              "4995   0.30  Very Good     D     SI2  62.20  59.00 4.25 4.30 2.66\n",
              "4996   0.51      Ideal     F    VVS2  61.90  56.00 5.09 5.14 3.16\n",
              "4997   1.01  Very Good     F     SI1  60.60  60.00 6.37 6.43 3.88\n",
              "4998   0.31      Ideal     F    VVS1  62.10  56.00 4.35 4.38 2.71\n",
              "4999   0.33      Ideal     E     VS2  61.80  55.00 4.45 4.48 2.76\n",
              "\n",
              "[5000 rows x 9 columns]"
            ],
            "text/html": [
              "\n",
              "  <div id=\"df-61ff14aa-b884-4e10-8d3e-322add4279b3\">\n",
              "    <div class=\"colab-df-container\">\n",
              "      <div>\n",
              "<style scoped>\n",
              "    .dataframe tbody tr th:only-of-type {\n",
              "        vertical-align: middle;\n",
              "    }\n",
              "\n",
              "    .dataframe tbody tr th {\n",
              "        vertical-align: top;\n",
              "    }\n",
              "\n",
              "    .dataframe thead th {\n",
              "        text-align: right;\n",
              "    }\n",
              "</style>\n",
              "<table border=\"1\" class=\"dataframe\">\n",
              "  <thead>\n",
              "    <tr style=\"text-align: right;\">\n",
              "      <th></th>\n",
              "      <th>carat</th>\n",
              "      <th>cut</th>\n",
              "      <th>color</th>\n",
              "      <th>clarity</th>\n",
              "      <th>depth</th>\n",
              "      <th>table</th>\n",
              "      <th>x</th>\n",
              "      <th>y</th>\n",
              "      <th>z</th>\n",
              "    </tr>\n",
              "  </thead>\n",
              "  <tbody>\n",
              "    <tr>\n",
              "      <th>0</th>\n",
              "      <td>0.91</td>\n",
              "      <td>Very Good</td>\n",
              "      <td>H</td>\n",
              "      <td>SI2</td>\n",
              "      <td>63.40</td>\n",
              "      <td>57.00</td>\n",
              "      <td>6.10</td>\n",
              "      <td>6.18</td>\n",
              "      <td>3.89</td>\n",
              "    </tr>\n",
              "    <tr>\n",
              "      <th>1</th>\n",
              "      <td>0.38</td>\n",
              "      <td>Good</td>\n",
              "      <td>F</td>\n",
              "      <td>VS2</td>\n",
              "      <td>60.30</td>\n",
              "      <td>61.00</td>\n",
              "      <td>4.68</td>\n",
              "      <td>4.71</td>\n",
              "      <td>2.83</td>\n",
              "    </tr>\n",
              "    <tr>\n",
              "      <th>2</th>\n",
              "      <td>0.52</td>\n",
              "      <td>Ideal</td>\n",
              "      <td>H</td>\n",
              "      <td>VS2</td>\n",
              "      <td>61.80</td>\n",
              "      <td>56.00</td>\n",
              "      <td>5.19</td>\n",
              "      <td>5.16</td>\n",
              "      <td>3.20</td>\n",
              "    </tr>\n",
              "    <tr>\n",
              "      <th>3</th>\n",
              "      <td>1.10</td>\n",
              "      <td>Ideal</td>\n",
              "      <td>G</td>\n",
              "      <td>VS1</td>\n",
              "      <td>61.30</td>\n",
              "      <td>56.00</td>\n",
              "      <td>6.65</td>\n",
              "      <td>6.69</td>\n",
              "      <td>4.09</td>\n",
              "    </tr>\n",
              "    <tr>\n",
              "      <th>4</th>\n",
              "      <td>2.28</td>\n",
              "      <td>Ideal</td>\n",
              "      <td>G</td>\n",
              "      <td>SI2</td>\n",
              "      <td>61.60</td>\n",
              "      <td>57.00</td>\n",
              "      <td>8.44</td>\n",
              "      <td>8.37</td>\n",
              "      <td>5.18</td>\n",
              "    </tr>\n",
              "    <tr>\n",
              "      <th>...</th>\n",
              "      <td>...</td>\n",
              "      <td>...</td>\n",
              "      <td>...</td>\n",
              "      <td>...</td>\n",
              "      <td>...</td>\n",
              "      <td>...</td>\n",
              "      <td>...</td>\n",
              "      <td>...</td>\n",
              "      <td>...</td>\n",
              "    </tr>\n",
              "    <tr>\n",
              "      <th>4995</th>\n",
              "      <td>0.30</td>\n",
              "      <td>Very Good</td>\n",
              "      <td>D</td>\n",
              "      <td>SI2</td>\n",
              "      <td>62.20</td>\n",
              "      <td>59.00</td>\n",
              "      <td>4.25</td>\n",
              "      <td>4.30</td>\n",
              "      <td>2.66</td>\n",
              "    </tr>\n",
              "    <tr>\n",
              "      <th>4996</th>\n",
              "      <td>0.51</td>\n",
              "      <td>Ideal</td>\n",
              "      <td>F</td>\n",
              "      <td>VVS2</td>\n",
              "      <td>61.90</td>\n",
              "      <td>56.00</td>\n",
              "      <td>5.09</td>\n",
              "      <td>5.14</td>\n",
              "      <td>3.16</td>\n",
              "    </tr>\n",
              "    <tr>\n",
              "      <th>4997</th>\n",
              "      <td>1.01</td>\n",
              "      <td>Very Good</td>\n",
              "      <td>F</td>\n",
              "      <td>SI1</td>\n",
              "      <td>60.60</td>\n",
              "      <td>60.00</td>\n",
              "      <td>6.37</td>\n",
              "      <td>6.43</td>\n",
              "      <td>3.88</td>\n",
              "    </tr>\n",
              "    <tr>\n",
              "      <th>4998</th>\n",
              "      <td>0.31</td>\n",
              "      <td>Ideal</td>\n",
              "      <td>F</td>\n",
              "      <td>VVS1</td>\n",
              "      <td>62.10</td>\n",
              "      <td>56.00</td>\n",
              "      <td>4.35</td>\n",
              "      <td>4.38</td>\n",
              "      <td>2.71</td>\n",
              "    </tr>\n",
              "    <tr>\n",
              "      <th>4999</th>\n",
              "      <td>0.33</td>\n",
              "      <td>Ideal</td>\n",
              "      <td>E</td>\n",
              "      <td>VS2</td>\n",
              "      <td>61.80</td>\n",
              "      <td>55.00</td>\n",
              "      <td>4.45</td>\n",
              "      <td>4.48</td>\n",
              "      <td>2.76</td>\n",
              "    </tr>\n",
              "  </tbody>\n",
              "</table>\n",
              "<p>5000 rows × 9 columns</p>\n",
              "</div>\n",
              "      <button class=\"colab-df-convert\" onclick=\"convertToInteractive('df-61ff14aa-b884-4e10-8d3e-322add4279b3')\"\n",
              "              title=\"Convert this dataframe to an interactive table.\"\n",
              "              style=\"display:none;\">\n",
              "        \n",
              "  <svg xmlns=\"http://www.w3.org/2000/svg\" height=\"24px\"viewBox=\"0 0 24 24\"\n",
              "       width=\"24px\">\n",
              "    <path d=\"M0 0h24v24H0V0z\" fill=\"none\"/>\n",
              "    <path d=\"M18.56 5.44l.94 2.06.94-2.06 2.06-.94-2.06-.94-.94-2.06-.94 2.06-2.06.94zm-11 1L8.5 8.5l.94-2.06 2.06-.94-2.06-.94L8.5 2.5l-.94 2.06-2.06.94zm10 10l.94 2.06.94-2.06 2.06-.94-2.06-.94-.94-2.06-.94 2.06-2.06.94z\"/><path d=\"M17.41 7.96l-1.37-1.37c-.4-.4-.92-.59-1.43-.59-.52 0-1.04.2-1.43.59L10.3 9.45l-7.72 7.72c-.78.78-.78 2.05 0 2.83L4 21.41c.39.39.9.59 1.41.59.51 0 1.02-.2 1.41-.59l7.78-7.78 2.81-2.81c.8-.78.8-2.07 0-2.86zM5.41 20L4 18.59l7.72-7.72 1.47 1.35L5.41 20z\"/>\n",
              "  </svg>\n",
              "      </button>\n",
              "      \n",
              "  <style>\n",
              "    .colab-df-container {\n",
              "      display:flex;\n",
              "      flex-wrap:wrap;\n",
              "      gap: 12px;\n",
              "    }\n",
              "\n",
              "    .colab-df-convert {\n",
              "      background-color: #E8F0FE;\n",
              "      border: none;\n",
              "      border-radius: 50%;\n",
              "      cursor: pointer;\n",
              "      display: none;\n",
              "      fill: #1967D2;\n",
              "      height: 32px;\n",
              "      padding: 0 0 0 0;\n",
              "      width: 32px;\n",
              "    }\n",
              "\n",
              "    .colab-df-convert:hover {\n",
              "      background-color: #E2EBFA;\n",
              "      box-shadow: 0px 1px 2px rgba(60, 64, 67, 0.3), 0px 1px 3px 1px rgba(60, 64, 67, 0.15);\n",
              "      fill: #174EA6;\n",
              "    }\n",
              "\n",
              "    [theme=dark] .colab-df-convert {\n",
              "      background-color: #3B4455;\n",
              "      fill: #D2E3FC;\n",
              "    }\n",
              "\n",
              "    [theme=dark] .colab-df-convert:hover {\n",
              "      background-color: #434B5C;\n",
              "      box-shadow: 0px 1px 3px 1px rgba(0, 0, 0, 0.15);\n",
              "      filter: drop-shadow(0px 1px 2px rgba(0, 0, 0, 0.3));\n",
              "      fill: #FFFFFF;\n",
              "    }\n",
              "  </style>\n",
              "\n",
              "      <script>\n",
              "        const buttonEl =\n",
              "          document.querySelector('#df-61ff14aa-b884-4e10-8d3e-322add4279b3 button.colab-df-convert');\n",
              "        buttonEl.style.display =\n",
              "          google.colab.kernel.accessAllowed ? 'block' : 'none';\n",
              "\n",
              "        async function convertToInteractive(key) {\n",
              "          const element = document.querySelector('#df-61ff14aa-b884-4e10-8d3e-322add4279b3');\n",
              "          const dataTable =\n",
              "            await google.colab.kernel.invokeFunction('convertToInteractive',\n",
              "                                                     [key], {});\n",
              "          if (!dataTable) return;\n",
              "\n",
              "          const docLinkHtml = 'Like what you see? Visit the ' +\n",
              "            '<a target=\"_blank\" href=https://colab.research.google.com/notebooks/data_table.ipynb>data table notebook</a>'\n",
              "            + ' to learn more about interactive tables.';\n",
              "          element.innerHTML = '';\n",
              "          dataTable['output_type'] = 'display_data';\n",
              "          await google.colab.output.renderOutput(dataTable, element);\n",
              "          const docLink = document.createElement('div');\n",
              "          docLink.innerHTML = docLinkHtml;\n",
              "          element.appendChild(docLink);\n",
              "        }\n",
              "      </script>\n",
              "    </div>\n",
              "  </div>\n",
              "  "
            ]
          },
          "metadata": {}
        }
      ]
    },
    {
      "cell_type": "code",
      "source": [
        "df_diamonds.info()"
      ],
      "metadata": {
        "colab": {
          "base_uri": "https://localhost:8080/"
        },
        "id": "E8mLK18dNS5t",
        "outputId": "673188a6-6dd1-423a-9059-2f48795d96b4"
      },
      "execution_count": 5,
      "outputs": [
        {
          "output_type": "stream",
          "name": "stdout",
          "text": [
            "<class 'pandas.core.frame.DataFrame'>\n",
            "RangeIndex: 48940 entries, 0 to 48939\n",
            "Data columns (total 10 columns):\n",
            " #   Column   Non-Null Count  Dtype  \n",
            "---  ------   --------------  -----  \n",
            " 0   carat    48940 non-null  float64\n",
            " 1   cut      48940 non-null  object \n",
            " 2   color    48940 non-null  object \n",
            " 3   clarity  48940 non-null  object \n",
            " 4   depth    48940 non-null  float64\n",
            " 5   table    48940 non-null  float64\n",
            " 6   price    48940 non-null  int64  \n",
            " 7   x        48940 non-null  float64\n",
            " 8   y        48940 non-null  float64\n",
            " 9   z        48940 non-null  float64\n",
            "dtypes: float64(6), int64(1), object(3)\n",
            "memory usage: 3.7+ MB\n"
          ]
        }
      ]
    },
    {
      "cell_type": "code",
      "source": [
        "df_diamonds.describe()"
      ],
      "metadata": {
        "colab": {
          "base_uri": "https://localhost:8080/",
          "height": 300
        },
        "id": "mT_1evWwNS_6",
        "outputId": "3d3f783b-7d2e-49e8-9a97-c4cdde991305"
      },
      "execution_count": 6,
      "outputs": [
        {
          "output_type": "execute_result",
          "data": {
            "text/plain": [
              "          carat     depth     table     price         x         y         z\n",
              "count 48,940.00 48,940.00 48,940.00 48,940.00 48,940.00 48,940.00 48,940.00\n",
              "mean       0.80     61.75     57.45  3,934.41      5.73      5.73      3.54\n",
              "std        0.47      1.43      2.23  3,989.33      1.12      1.15      0.71\n",
              "min        0.20     43.00     43.00    326.00      0.00      0.00      0.00\n",
              "25%        0.40     61.00     56.00    949.00      4.71      4.72      2.91\n",
              "50%        0.70     61.80     57.00  2,401.00      5.69      5.71      3.52\n",
              "75%        1.04     62.50     59.00  5,331.25      6.54      6.54      4.04\n",
              "max        5.01     79.00     95.00 18,823.00     10.74     58.90     31.80"
            ],
            "text/html": [
              "\n",
              "  <div id=\"df-8208b6c1-234d-4a3b-85b4-7ba8e7d589cc\">\n",
              "    <div class=\"colab-df-container\">\n",
              "      <div>\n",
              "<style scoped>\n",
              "    .dataframe tbody tr th:only-of-type {\n",
              "        vertical-align: middle;\n",
              "    }\n",
              "\n",
              "    .dataframe tbody tr th {\n",
              "        vertical-align: top;\n",
              "    }\n",
              "\n",
              "    .dataframe thead th {\n",
              "        text-align: right;\n",
              "    }\n",
              "</style>\n",
              "<table border=\"1\" class=\"dataframe\">\n",
              "  <thead>\n",
              "    <tr style=\"text-align: right;\">\n",
              "      <th></th>\n",
              "      <th>carat</th>\n",
              "      <th>depth</th>\n",
              "      <th>table</th>\n",
              "      <th>price</th>\n",
              "      <th>x</th>\n",
              "      <th>y</th>\n",
              "      <th>z</th>\n",
              "    </tr>\n",
              "  </thead>\n",
              "  <tbody>\n",
              "    <tr>\n",
              "      <th>count</th>\n",
              "      <td>48,940.00</td>\n",
              "      <td>48,940.00</td>\n",
              "      <td>48,940.00</td>\n",
              "      <td>48,940.00</td>\n",
              "      <td>48,940.00</td>\n",
              "      <td>48,940.00</td>\n",
              "      <td>48,940.00</td>\n",
              "    </tr>\n",
              "    <tr>\n",
              "      <th>mean</th>\n",
              "      <td>0.80</td>\n",
              "      <td>61.75</td>\n",
              "      <td>57.45</td>\n",
              "      <td>3,934.41</td>\n",
              "      <td>5.73</td>\n",
              "      <td>5.73</td>\n",
              "      <td>3.54</td>\n",
              "    </tr>\n",
              "    <tr>\n",
              "      <th>std</th>\n",
              "      <td>0.47</td>\n",
              "      <td>1.43</td>\n",
              "      <td>2.23</td>\n",
              "      <td>3,989.33</td>\n",
              "      <td>1.12</td>\n",
              "      <td>1.15</td>\n",
              "      <td>0.71</td>\n",
              "    </tr>\n",
              "    <tr>\n",
              "      <th>min</th>\n",
              "      <td>0.20</td>\n",
              "      <td>43.00</td>\n",
              "      <td>43.00</td>\n",
              "      <td>326.00</td>\n",
              "      <td>0.00</td>\n",
              "      <td>0.00</td>\n",
              "      <td>0.00</td>\n",
              "    </tr>\n",
              "    <tr>\n",
              "      <th>25%</th>\n",
              "      <td>0.40</td>\n",
              "      <td>61.00</td>\n",
              "      <td>56.00</td>\n",
              "      <td>949.00</td>\n",
              "      <td>4.71</td>\n",
              "      <td>4.72</td>\n",
              "      <td>2.91</td>\n",
              "    </tr>\n",
              "    <tr>\n",
              "      <th>50%</th>\n",
              "      <td>0.70</td>\n",
              "      <td>61.80</td>\n",
              "      <td>57.00</td>\n",
              "      <td>2,401.00</td>\n",
              "      <td>5.69</td>\n",
              "      <td>5.71</td>\n",
              "      <td>3.52</td>\n",
              "    </tr>\n",
              "    <tr>\n",
              "      <th>75%</th>\n",
              "      <td>1.04</td>\n",
              "      <td>62.50</td>\n",
              "      <td>59.00</td>\n",
              "      <td>5,331.25</td>\n",
              "      <td>6.54</td>\n",
              "      <td>6.54</td>\n",
              "      <td>4.04</td>\n",
              "    </tr>\n",
              "    <tr>\n",
              "      <th>max</th>\n",
              "      <td>5.01</td>\n",
              "      <td>79.00</td>\n",
              "      <td>95.00</td>\n",
              "      <td>18,823.00</td>\n",
              "      <td>10.74</td>\n",
              "      <td>58.90</td>\n",
              "      <td>31.80</td>\n",
              "    </tr>\n",
              "  </tbody>\n",
              "</table>\n",
              "</div>\n",
              "      <button class=\"colab-df-convert\" onclick=\"convertToInteractive('df-8208b6c1-234d-4a3b-85b4-7ba8e7d589cc')\"\n",
              "              title=\"Convert this dataframe to an interactive table.\"\n",
              "              style=\"display:none;\">\n",
              "        \n",
              "  <svg xmlns=\"http://www.w3.org/2000/svg\" height=\"24px\"viewBox=\"0 0 24 24\"\n",
              "       width=\"24px\">\n",
              "    <path d=\"M0 0h24v24H0V0z\" fill=\"none\"/>\n",
              "    <path d=\"M18.56 5.44l.94 2.06.94-2.06 2.06-.94-2.06-.94-.94-2.06-.94 2.06-2.06.94zm-11 1L8.5 8.5l.94-2.06 2.06-.94-2.06-.94L8.5 2.5l-.94 2.06-2.06.94zm10 10l.94 2.06.94-2.06 2.06-.94-2.06-.94-.94-2.06-.94 2.06-2.06.94z\"/><path d=\"M17.41 7.96l-1.37-1.37c-.4-.4-.92-.59-1.43-.59-.52 0-1.04.2-1.43.59L10.3 9.45l-7.72 7.72c-.78.78-.78 2.05 0 2.83L4 21.41c.39.39.9.59 1.41.59.51 0 1.02-.2 1.41-.59l7.78-7.78 2.81-2.81c.8-.78.8-2.07 0-2.86zM5.41 20L4 18.59l7.72-7.72 1.47 1.35L5.41 20z\"/>\n",
              "  </svg>\n",
              "      </button>\n",
              "      \n",
              "  <style>\n",
              "    .colab-df-container {\n",
              "      display:flex;\n",
              "      flex-wrap:wrap;\n",
              "      gap: 12px;\n",
              "    }\n",
              "\n",
              "    .colab-df-convert {\n",
              "      background-color: #E8F0FE;\n",
              "      border: none;\n",
              "      border-radius: 50%;\n",
              "      cursor: pointer;\n",
              "      display: none;\n",
              "      fill: #1967D2;\n",
              "      height: 32px;\n",
              "      padding: 0 0 0 0;\n",
              "      width: 32px;\n",
              "    }\n",
              "\n",
              "    .colab-df-convert:hover {\n",
              "      background-color: #E2EBFA;\n",
              "      box-shadow: 0px 1px 2px rgba(60, 64, 67, 0.3), 0px 1px 3px 1px rgba(60, 64, 67, 0.15);\n",
              "      fill: #174EA6;\n",
              "    }\n",
              "\n",
              "    [theme=dark] .colab-df-convert {\n",
              "      background-color: #3B4455;\n",
              "      fill: #D2E3FC;\n",
              "    }\n",
              "\n",
              "    [theme=dark] .colab-df-convert:hover {\n",
              "      background-color: #434B5C;\n",
              "      box-shadow: 0px 1px 3px 1px rgba(0, 0, 0, 0.15);\n",
              "      filter: drop-shadow(0px 1px 2px rgba(0, 0, 0, 0.3));\n",
              "      fill: #FFFFFF;\n",
              "    }\n",
              "  </style>\n",
              "\n",
              "      <script>\n",
              "        const buttonEl =\n",
              "          document.querySelector('#df-8208b6c1-234d-4a3b-85b4-7ba8e7d589cc button.colab-df-convert');\n",
              "        buttonEl.style.display =\n",
              "          google.colab.kernel.accessAllowed ? 'block' : 'none';\n",
              "\n",
              "        async function convertToInteractive(key) {\n",
              "          const element = document.querySelector('#df-8208b6c1-234d-4a3b-85b4-7ba8e7d589cc');\n",
              "          const dataTable =\n",
              "            await google.colab.kernel.invokeFunction('convertToInteractive',\n",
              "                                                     [key], {});\n",
              "          if (!dataTable) return;\n",
              "\n",
              "          const docLinkHtml = 'Like what you see? Visit the ' +\n",
              "            '<a target=\"_blank\" href=https://colab.research.google.com/notebooks/data_table.ipynb>data table notebook</a>'\n",
              "            + ' to learn more about interactive tables.';\n",
              "          element.innerHTML = '';\n",
              "          dataTable['output_type'] = 'display_data';\n",
              "          await google.colab.output.renderOutput(dataTable, element);\n",
              "          const docLink = document.createElement('div');\n",
              "          docLink.innerHTML = docLinkHtml;\n",
              "          element.appendChild(docLink);\n",
              "        }\n",
              "      </script>\n",
              "    </div>\n",
              "  </div>\n",
              "  "
            ]
          },
          "metadata": {},
          "execution_count": 6
        }
      ]
    },
    {
      "cell_type": "markdown",
      "source": [
        "  check the outliers in columns x, y and z."
      ],
      "metadata": {
        "id": "mYk60t_VhlVf"
      }
    },
    {
      "cell_type": "code",
      "source": [
        "sns.pairplot(df_diamonds,kind='reg',y_vars='price', x_vars=['carat', 'depth', 'table', 'price', 'x', 'y', 'z'])"
      ],
      "metadata": {
        "colab": {
          "base_uri": "https://localhost:8080/",
          "height": 215
        },
        "id": "DFd679rER9WO",
        "outputId": "e8de5869-3f8e-4de0-80f0-7b0a3af952c0"
      },
      "execution_count": 7,
      "outputs": [
        {
          "output_type": "execute_result",
          "data": {
            "text/plain": [
              "<seaborn.axisgrid.PairGrid at 0x7f6a8b703610>"
            ]
          },
          "metadata": {},
          "execution_count": 7
        },
        {
          "output_type": "display_data",
          "data": {
            "text/plain": [
              "<Figure size 1260x180 with 8 Axes>"
            ],
            "image/png": "[encoded data removed]"
          },
          "metadata": {
            "needs_background": "light"
          }
        }
      ]
    },
    {
      "cell_type": "code",
      "source": [
        "sns.pairplot(data = df_diamonds, y_vars='price', x_vars=['carat', 'depth', 'table', 'price'])"
      ],
      "metadata": {
        "colab": {
          "base_uri": "https://localhost:8080/",
          "height": 215
        },
        "id": "MuJAHskvNTGB",
        "outputId": "42944a6d-9ca1-4e0a-8cff-b873890e575c"
      },
      "execution_count": 8,
      "outputs": [
        {
          "output_type": "execute_result",
          "data": {
            "text/plain": [
              "<seaborn.axisgrid.PairGrid at 0x7f6a88607550>"
            ]
          },
          "metadata": {},
          "execution_count": 8
        },
        {
          "output_type": "display_data",
          "data": {
            "text/plain": [
              "<Figure size 720x180 with 5 Axes>"
            ],
            "image/png": "[encoded data removed]"
          },
          "metadata": {
            "needs_background": "light"
          }
        }
      ]
    },
    {
      "cell_type": "markdown",
      "source": [
        "## Data Cleaning"
      ],
      "metadata": {
        "id": "iykBGEBp0s6M"
      }
    },
    {
      "cell_type": "markdown",
      "source": [
        "**Create a new column to transform 'cut' into values ​​from 0 to 4**\n",
        "\n",
        "Ideal=4, Premium=3, Very Good=2, Good=3, Fair=0"
      ],
      "metadata": {
        "id": "uIjh4-B2EhFy"
      }
    },
    {
      "cell_type": "code",
      "source": [
        "df_diamonds['cut_No'] = df_diamonds['cut'].replace('Ideal', 4, regex=False).replace('Premium', 3, regex=False).replace('Very Good', 2, regex=False).replace('Good', 1, regex=False).replace('Fair', 0, regex=False)"
      ],
      "metadata": {
        "id": "mzBr9Nx7EZXR"
      },
      "execution_count": 9,
      "outputs": []
    },
    {
      "cell_type": "code",
      "source": [
        "df_diamonds['cut_No'].unique()"
      ],
      "metadata": {
        "colab": {
          "base_uri": "https://localhost:8080/"
        },
        "id": "CW54hv04EZfI",
        "outputId": "89408fab-c013-45f5-deba-36bef0fdacae"
      },
      "execution_count": 10,
      "outputs": [
        {
          "output_type": "execute_result",
          "data": {
            "text/plain": [
              "array([3, 1, 2, 4, 0])"
            ]
          },
          "metadata": {},
          "execution_count": 10
        }
      ]
    },
    {
      "cell_type": "code",
      "source": [
        "df_rick_diamonds['cut_No'] = df_rick_diamonds['cut'].replace('Ideal', 4, regex=False).replace('Premium', 3, regex=False).replace('Very Good', 2, regex=False).replace('Good', 1, regex=False).replace('Fair', 0, regex=False)"
      ],
      "metadata": {
        "id": "kmEpwTo0EZio"
      },
      "execution_count": 11,
      "outputs": []
    },
    {
      "cell_type": "code",
      "source": [
        "df_rick_diamonds['cut_No'].unique()"
      ],
      "metadata": {
        "colab": {
          "base_uri": "https://localhost:8080/"
        },
        "id": "Ymk9EYiTEZmp",
        "outputId": "6935cc7f-0426-4208-fb7f-5e7d86790945"
      },
      "execution_count": 12,
      "outputs": [
        {
          "output_type": "execute_result",
          "data": {
            "text/plain": [
              "array([2, 1, 4, 3, 0])"
            ]
          },
          "metadata": {},
          "execution_count": 12
        }
      ]
    },
    {
      "cell_type": "markdown",
      "source": [
        " **Create a new column to transform 'color' into values ​​from 0 to 6**\n",
        "  \n",
        "  D=6, E=5, F=4, G=3, H=2, I=1, J=0"
      ],
      "metadata": {
        "id": "C1R8s5YrFSp6"
      }
    },
    {
      "cell_type": "code",
      "source": [
        "df_diamonds['color_No'] = df_diamonds['color'].replace('D', 6, regex=False).replace('E', 5, regex=False).replace('F', 4, regex=False).replace('G', 3, regex=False).replace('H', 2, regex=False).replace('I', 1, regex=False).replace('J', 0, regex=False)"
      ],
      "metadata": {
        "id": "NStMXpxdFRvk"
      },
      "execution_count": 13,
      "outputs": []
    },
    {
      "cell_type": "code",
      "source": [
        "df_diamonds['color_No'].unique()"
      ],
      "metadata": {
        "colab": {
          "base_uri": "https://localhost:8080/"
        },
        "id": "8UUvBkigFYG4",
        "outputId": "31cd7942-1442-4639-f179-a73a1b79ceb0"
      },
      "execution_count": 14,
      "outputs": [
        {
          "output_type": "execute_result",
          "data": {
            "text/plain": [
              "array([5, 1, 0, 2, 4, 3, 6])"
            ]
          },
          "metadata": {},
          "execution_count": 14
        }
      ]
    },
    {
      "cell_type": "code",
      "source": [
        "df_rick_diamonds['color_No'] = df_rick_diamonds['color'].replace('D', 6, regex=False).replace('E', 5, regex=False).replace('F', 4, regex=False).replace('G', 3, regex=False).replace('H', 2, regex=False).replace('I', 1, regex=False).replace('J', 0, regex=False)"
      ],
      "metadata": {
        "id": "-DehxYdzFYKW"
      },
      "execution_count": 15,
      "outputs": []
    },
    {
      "cell_type": "code",
      "source": [
        "df_rick_diamonds['color_No'].unique()"
      ],
      "metadata": {
        "colab": {
          "base_uri": "https://localhost:8080/"
        },
        "id": "7sJ3BfNFFYOP",
        "outputId": "50560ac4-07ef-455f-8e06-392185070bfe"
      },
      "execution_count": 16,
      "outputs": [
        {
          "output_type": "execute_result",
          "data": {
            "text/plain": [
              "array([2, 4, 3, 0, 5, 1, 6])"
            ]
          },
          "metadata": {},
          "execution_count": 16
        }
      ]
    },
    {
      "cell_type": "markdown",
      "source": [
        "**Create a new column to transform 'clarity' into values ​​from 0 to 7**\n",
        "\n",
        "I1=0, SI2=1, SI1=2, VS2=3, VS1=4, VVS2=5, VVS1=6 e IF=7."
      ],
      "metadata": {
        "id": "HbOxyGfB08av"
      }
    },
    {
      "cell_type": "code",
      "source": [
        "df_diamonds['clarity_No'] = df_diamonds['clarity'].replace('I1', 0, regex=False).replace('SI2', 1, regex=False).replace('SI1', 2, regex=False).replace('VS2', 3, regex=False).replace('VS1', 4, regex=False).replace('VVS2', 5, regex=False).replace('VVS1', 6, regex=False).replace('IF', 7, regex=False)"
      ],
      "metadata": {
        "id": "FqgdOMEwAhEc"
      },
      "execution_count": 17,
      "outputs": []
    },
    {
      "cell_type": "code",
      "source": [
        "df_diamonds['clarity_No'].unique()"
      ],
      "metadata": {
        "colab": {
          "base_uri": "https://localhost:8080/"
        },
        "id": "aerLyG0LBYrG",
        "outputId": "0dca9751-0b18-49b6-ec6d-503d49348302"
      },
      "execution_count": 18,
      "outputs": [
        {
          "output_type": "execute_result",
          "data": {
            "text/plain": [
              "array([2, 4, 3, 1, 5, 6, 0, 7])"
            ]
          },
          "metadata": {},
          "execution_count": 18
        }
      ]
    },
    {
      "cell_type": "code",
      "source": [
        "df_rick_diamonds['clarity_No'] = df_rick_diamonds['clarity'].replace('I1', 0, regex=False).replace('SI2', 1, regex=False).replace('SI1', 2, regex=False).replace('VS2', 3, regex=False).replace('VS1', 4, regex=False).replace('VVS2', 5, regex=False).replace('VVS1', 6, regex=False).replace('IF', 7, regex=False)"
      ],
      "metadata": {
        "id": "EdyXQ3TQGm67"
      },
      "execution_count": 19,
      "outputs": []
    },
    {
      "cell_type": "code",
      "source": [
        "df_rick_diamonds['clarity_No'].unique()"
      ],
      "metadata": {
        "colab": {
          "base_uri": "https://localhost:8080/"
        },
        "id": "5SaZ6Ua_Gm-I",
        "outputId": "025829c4-b87c-4386-8edd-f79d13b0c781"
      },
      "execution_count": 20,
      "outputs": [
        {
          "output_type": "execute_result",
          "data": {
            "text/plain": [
              "array([1, 3, 4, 2, 7, 5, 0, 6])"
            ]
          },
          "metadata": {},
          "execution_count": 20
        }
      ]
    },
    {
      "cell_type": "code",
      "source": [
        "df_diamonds.describe().T"
      ],
      "metadata": {
        "colab": {
          "base_uri": "https://localhost:8080/",
          "height": 363
        },
        "id": "lcHfLJBtGnBJ",
        "outputId": "2509aaee-bfc2-4978-ac29-acbee83f3709"
      },
      "execution_count": 21,
      "outputs": [
        {
          "output_type": "execute_result",
          "data": {
            "text/plain": [
              "               count     mean      std    min    25%      50%      75%  \\\n",
              "carat      48,940.00     0.80     0.47   0.20   0.40     0.70     1.04   \n",
              "depth      48,940.00    61.75     1.43  43.00  61.00    61.80    62.50   \n",
              "table      48,940.00    57.45     2.23  43.00  56.00    57.00    59.00   \n",
              "price      48,940.00 3,934.41 3,989.33 326.00 949.00 2,401.00 5,331.25   \n",
              "x          48,940.00     5.73     1.12   0.00   4.71     5.69     6.54   \n",
              "y          48,940.00     5.73     1.15   0.00   4.72     5.71     6.54   \n",
              "z          48,940.00     3.54     0.71   0.00   2.91     3.52     4.04   \n",
              "cut_No     48,940.00     2.91     1.12   0.00   2.00     3.00     4.00   \n",
              "color_No   48,940.00     3.41     1.70   0.00   2.00     3.00     5.00   \n",
              "clarity_No 48,940.00     3.06     1.65   0.00   2.00     3.00     4.00   \n",
              "\n",
              "                 max  \n",
              "carat           5.01  \n",
              "depth          79.00  \n",
              "table          95.00  \n",
              "price      18,823.00  \n",
              "x              10.74  \n",
              "y              58.90  \n",
              "z              31.80  \n",
              "cut_No          4.00  \n",
              "color_No        6.00  \n",
              "clarity_No      7.00  "
            ],
            "text/html": [
              "\n",
              "  <div id=\"df-ad06c2a4-d95b-4426-b1f5-16d6d2679ce5\">\n",
              "    <div class=\"colab-df-container\">\n",
              "      <div>\n",
              "<style scoped>\n",
              "    .dataframe tbody tr th:only-of-type {\n",
              "        vertical-align: middle;\n",
              "    }\n",
              "\n",
              "    .dataframe tbody tr th {\n",
              "        vertical-align: top;\n",
              "    }\n",
              "\n",
              "    .dataframe thead th {\n",
              "        text-align: right;\n",
              "    }\n",
              "</style>\n",
              "<table border=\"1\" class=\"dataframe\">\n",
              "  <thead>\n",
              "    <tr style=\"text-align: right;\">\n",
              "      <th></th>\n",
              "      <th>count</th>\n",
              "      <th>mean</th>\n",
              "      <th>std</th>\n",
              "      <th>min</th>\n",
              "      <th>25%</th>\n",
              "      <th>50%</th>\n",
              "      <th>75%</th>\n",
              "      <th>max</th>\n",
              "    </tr>\n",
              "  </thead>\n",
              "  <tbody>\n",
              "    <tr>\n",
              "      <th>carat</th>\n",
              "      <td>48,940.00</td>\n",
              "      <td>0.80</td>\n",
              "      <td>0.47</td>\n",
              "      <td>0.20</td>\n",
              "      <td>0.40</td>\n",
              "      <td>0.70</td>\n",
              "      <td>1.04</td>\n",
              "      <td>5.01</td>\n",
              "    </tr>\n",
              "    <tr>\n",
              "      <th>depth</th>\n",
              "      <td>48,940.00</td>\n",
              "      <td>61.75</td>\n",
              "      <td>1.43</td>\n",
              "      <td>43.00</td>\n",
              "      <td>61.00</td>\n",
              "      <td>61.80</td>\n",
              "      <td>62.50</td>\n",
              "      <td>79.00</td>\n",
              "    </tr>\n",
              "    <tr>\n",
              "      <th>table</th>\n",
              "      <td>48,940.00</td>\n",
              "      <td>57.45</td>\n",
              "      <td>2.23</td>\n",
              "      <td>43.00</td>\n",
              "      <td>56.00</td>\n",
              "      <td>57.00</td>\n",
              "      <td>59.00</td>\n",
              "      <td>95.00</td>\n",
              "    </tr>\n",
              "    <tr>\n",
              "      <th>price</th>\n",
              "      <td>48,940.00</td>\n",
              "      <td>3,934.41</td>\n",
              "      <td>3,989.33</td>\n",
              "      <td>326.00</td>\n",
              "      <td>949.00</td>\n",
              "      <td>2,401.00</td>\n",
              "      <td>5,331.25</td>\n",
              "      <td>18,823.00</td>\n",
              "    </tr>\n",
              "    <tr>\n",
              "      <th>x</th>\n",
              "      <td>48,940.00</td>\n",
              "      <td>5.73</td>\n",
              "      <td>1.12</td>\n",
              "      <td>0.00</td>\n",
              "      <td>4.71</td>\n",
              "      <td>5.69</td>\n",
              "      <td>6.54</td>\n",
              "      <td>10.74</td>\n",
              "    </tr>\n",
              "    <tr>\n",
              "      <th>y</th>\n",
              "      <td>48,940.00</td>\n",
              "      <td>5.73</td>\n",
              "      <td>1.15</td>\n",
              "      <td>0.00</td>\n",
              "      <td>4.72</td>\n",
              "      <td>5.71</td>\n",
              "      <td>6.54</td>\n",
              "      <td>58.90</td>\n",
              "    </tr>\n",
              "    <tr>\n",
              "      <th>z</th>\n",
              "      <td>48,940.00</td>\n",
              "      <td>3.54</td>\n",
              "      <td>0.71</td>\n",
              "      <td>0.00</td>\n",
              "      <td>2.91</td>\n",
              "      <td>3.52</td>\n",
              "      <td>4.04</td>\n",
              "      <td>31.80</td>\n",
              "    </tr>\n",
              "    <tr>\n",
              "      <th>cut_No</th>\n",
              "      <td>48,940.00</td>\n",
              "      <td>2.91</td>\n",
              "      <td>1.12</td>\n",
              "      <td>0.00</td>\n",
              "      <td>2.00</td>\n",
              "      <td>3.00</td>\n",
              "      <td>4.00</td>\n",
              "      <td>4.00</td>\n",
              "    </tr>\n",
              "    <tr>\n",
              "      <th>color_No</th>\n",
              "      <td>48,940.00</td>\n",
              "      <td>3.41</td>\n",
              "      <td>1.70</td>\n",
              "      <td>0.00</td>\n",
              "      <td>2.00</td>\n",
              "      <td>3.00</td>\n",
              "      <td>5.00</td>\n",
              "      <td>6.00</td>\n",
              "    </tr>\n",
              "    <tr>\n",
              "      <th>clarity_No</th>\n",
              "      <td>48,940.00</td>\n",
              "      <td>3.06</td>\n",
              "      <td>1.65</td>\n",
              "      <td>0.00</td>\n",
              "      <td>2.00</td>\n",
              "      <td>3.00</td>\n",
              "      <td>4.00</td>\n",
              "      <td>7.00</td>\n",
              "    </tr>\n",
              "  </tbody>\n",
              "</table>\n",
              "</div>\n",
              "      <button class=\"colab-df-convert\" onclick=\"convertToInteractive('df-ad06c2a4-d95b-4426-b1f5-16d6d2679ce5')\"\n",
              "              title=\"Convert this dataframe to an interactive table.\"\n",
              "              style=\"display:none;\">\n",
              "        \n",
              "  <svg xmlns=\"http://www.w3.org/2000/svg\" height=\"24px\"viewBox=\"0 0 24 24\"\n",
              "       width=\"24px\">\n",
              "    <path d=\"M0 0h24v24H0V0z\" fill=\"none\"/>\n",
              "    <path d=\"M18.56 5.44l.94 2.06.94-2.06 2.06-.94-2.06-.94-.94-2.06-.94 2.06-2.06.94zm-11 1L8.5 8.5l.94-2.06 2.06-.94-2.06-.94L8.5 2.5l-.94 2.06-2.06.94zm10 10l.94 2.06.94-2.06 2.06-.94-2.06-.94-.94-2.06-.94 2.06-2.06.94z\"/><path d=\"M17.41 7.96l-1.37-1.37c-.4-.4-.92-.59-1.43-.59-.52 0-1.04.2-1.43.59L10.3 9.45l-7.72 7.72c-.78.78-.78 2.05 0 2.83L4 21.41c.39.39.9.59 1.41.59.51 0 1.02-.2 1.41-.59l7.78-7.78 2.81-2.81c.8-.78.8-2.07 0-2.86zM5.41 20L4 18.59l7.72-7.72 1.47 1.35L5.41 20z\"/>\n",
              "  </svg>\n",
              "      </button>\n",
              "      \n",
              "  <style>\n",
              "    .colab-df-container {\n",
              "      display:flex;\n",
              "      flex-wrap:wrap;\n",
              "      gap: 12px;\n",
              "    }\n",
              "\n",
              "    .colab-df-convert {\n",
              "      background-color: #E8F0FE;\n",
              "      border: none;\n",
              "      border-radius: 50%;\n",
              "      cursor: pointer;\n",
              "      display: none;\n",
              "      fill: #1967D2;\n",
              "      height: 32px;\n",
              "      padding: 0 0 0 0;\n",
              "      width: 32px;\n",
              "    }\n",
              "\n",
              "    .colab-df-convert:hover {\n",
              "      background-color: #E2EBFA;\n",
              "      box-shadow: 0px 1px 2px rgba(60, 64, 67, 0.3), 0px 1px 3px 1px rgba(60, 64, 67, 0.15);\n",
              "      fill: #174EA6;\n",
              "    }\n",
              "\n",
              "    [theme=dark] .colab-df-convert {\n",
              "      background-color: #3B4455;\n",
              "      fill: #D2E3FC;\n",
              "    }\n",
              "\n",
              "    [theme=dark] .colab-df-convert:hover {\n",
              "      background-color: #434B5C;\n",
              "      box-shadow: 0px 1px 3px 1px rgba(0, 0, 0, 0.15);\n",
              "      filter: drop-shadow(0px 1px 2px rgba(0, 0, 0, 0.3));\n",
              "      fill: #FFFFFF;\n",
              "    }\n",
              "  </style>\n",
              "\n",
              "      <script>\n",
              "        const buttonEl =\n",
              "          document.querySelector('#df-ad06c2a4-d95b-4426-b1f5-16d6d2679ce5 button.colab-df-convert');\n",
              "        buttonEl.style.display =\n",
              "          google.colab.kernel.accessAllowed ? 'block' : 'none';\n",
              "\n",
              "        async function convertToInteractive(key) {\n",
              "          const element = document.querySelector('#df-ad06c2a4-d95b-4426-b1f5-16d6d2679ce5');\n",
              "          const dataTable =\n",
              "            await google.colab.kernel.invokeFunction('convertToInteractive',\n",
              "                                                     [key], {});\n",
              "          if (!dataTable) return;\n",
              "\n",
              "          const docLinkHtml = 'Like what you see? Visit the ' +\n",
              "            '<a target=\"_blank\" href=https://colab.research.google.com/notebooks/data_table.ipynb>data table notebook</a>'\n",
              "            + ' to learn more about interactive tables.';\n",
              "          element.innerHTML = '';\n",
              "          dataTable['output_type'] = 'display_data';\n",
              "          await google.colab.output.renderOutput(dataTable, element);\n",
              "          const docLink = document.createElement('div');\n",
              "          docLink.innerHTML = docLinkHtml;\n",
              "          element.appendChild(docLink);\n",
              "        }\n",
              "      </script>\n",
              "    </div>\n",
              "  </div>\n",
              "  "
            ]
          },
          "metadata": {},
          "execution_count": 21
        }
      ]
    },
    {
      "cell_type": "markdown",
      "source": [
        "##Regression Model"
      ],
      "metadata": {
        "id": "RZo4wGgOJicK"
      }
    },
    {
      "cell_type": "code",
      "source": [
        "df_diamonds.corr()['price']"
      ],
      "metadata": {
        "colab": {
          "base_uri": "https://localhost:8080/"
        },
        "id": "fhL4rEaiPZ3g",
        "outputId": "d1099956-d35f-4521-e530-17ec3261481e"
      },
      "execution_count": 22,
      "outputs": [
        {
          "output_type": "execute_result",
          "data": {
            "text/plain": [
              "carat         0.92\n",
              "depth        -0.01\n",
              "table         0.13\n",
              "price         1.00\n",
              "x             0.89\n",
              "y             0.86\n",
              "z             0.86\n",
              "cut_No       -0.06\n",
              "color_No     -0.17\n",
              "clarity_No   -0.15\n",
              "Name: price, dtype: float64"
            ]
          },
          "metadata": {},
          "execution_count": 22
        }
      ]
    },
    {
      "cell_type": "code",
      "source": [
        "X = df_diamonds[['carat','cut_No','color_No','clarity_No','x','y','z']]\n",
        "y = df_diamonds['price']"
      ],
      "metadata": {
        "id": "YC_qba4r0e2T"
      },
      "execution_count": 27,
      "outputs": []
    },
    {
      "cell_type": "code",
      "source": [
        "modelo_diamonds = LinearRegression()"
      ],
      "metadata": {
        "id": "-0n3erywPsuT"
      },
      "execution_count": 28,
      "outputs": []
    },
    {
      "cell_type": "code",
      "source": [
        "modelo_diamonds.fit(X,y)"
      ],
      "metadata": {
        "colab": {
          "base_uri": "https://localhost:8080/"
        },
        "id": "YQDzO7kDNTLi",
        "outputId": "cbe4ba2a-978a-4876-8633-104f884d2e6d"
      },
      "execution_count": 29,
      "outputs": [
        {
          "output_type": "execute_result",
          "data": {
            "text/plain": [
              "LinearRegression()"
            ]
          },
          "metadata": {},
          "execution_count": 29
        }
      ]
    },
    {
      "cell_type": "code",
      "source": [
        "modelo_diamonds.coef_"
      ],
      "metadata": {
        "colab": {
          "base_uri": "https://localhost:8080/"
        },
        "id": "W08W03-b3eoa",
        "outputId": "b532f5e9-3d5b-430f-c9b0-b9bd2f5fe4af"
      },
      "execution_count": 30,
      "outputs": [
        {
          "output_type": "execute_result",
          "data": {
            "text/plain": [
              "array([10606.96185165,   159.05160907,   325.1023428 ,   506.14092956,\n",
              "        -698.83055677,    66.36732142,  -263.82178998])"
            ]
          },
          "metadata": {},
          "execution_count": 30
        }
      ]
    },
    {
      "cell_type": "code",
      "source": [
        "modelo_diamonds.intercept_"
      ],
      "metadata": {
        "colab": {
          "base_uri": "https://localhost:8080/"
        },
        "id": "Nn3guAY93esG",
        "outputId": "5b810a5f-d749-473d-d56e-8778f4975bde"
      },
      "execution_count": 31,
      "outputs": [
        {
          "output_type": "execute_result",
          "data": {
            "text/plain": [
              "-3086.6726996419216"
            ]
          },
          "metadata": {},
          "execution_count": 31
        }
      ]
    },
    {
      "cell_type": "code",
      "source": [
        "predict = modelo_diamonds.predict(df_rick_diamonds[['carat','cut_No','color_No','clarity_No','x','y','z']])"
      ],
      "metadata": {
        "id": "O7v-8TIv0sj_"
      },
      "execution_count": 32,
      "outputs": []
    },
    {
      "cell_type": "code",
      "source": [
        "df_rick_diamonds['price_predicted'] = predict\n",
        "df_rick_diamonds"
      ],
      "metadata": {
        "colab": {
          "base_uri": "https://localhost:8080/",
          "height": 423
        },
        "id": "7xDABopOXt3W",
        "outputId": "41cd10c0-4606-414d-f5eb-8a1b5e5f948c"
      },
      "execution_count": 33,
      "outputs": [
        {
          "output_type": "execute_result",
          "data": {
            "text/plain": [
              "      carat        cut color clarity  depth  table    x    y    z  cut_No  \\\n",
              "0      0.91  Very Good     H     SI2  63.40  57.00 6.10 6.18 3.89       2   \n",
              "1      0.38       Good     F     VS2  60.30  61.00 4.68 4.71 2.83       1   \n",
              "2      0.52      Ideal     H     VS2  61.80  56.00 5.19 5.16 3.20       4   \n",
              "3      1.10      Ideal     G     VS1  61.30  56.00 6.65 6.69 4.09       4   \n",
              "4      2.28      Ideal     G     SI2  61.60  57.00 8.44 8.37 5.18       4   \n",
              "...     ...        ...   ...     ...    ...    ...  ...  ...  ...     ...   \n",
              "4995   0.30  Very Good     D     SI2  62.20  59.00 4.25 4.30 2.66       2   \n",
              "4996   0.51      Ideal     F    VVS2  61.90  56.00 5.09 5.14 3.16       4   \n",
              "4997   1.01  Very Good     F     SI1  60.60  60.00 6.37 6.43 3.88       2   \n",
              "4998   0.31      Ideal     F    VVS1  62.10  56.00 4.35 4.38 2.71       4   \n",
              "4999   0.33      Ideal     E     VS2  61.80  55.00 4.45 4.48 2.76       4   \n",
              "\n",
              "      color_No  clarity_No  price_predicted  \n",
              "0            2           1         3,161.13  \n",
              "1            4           3           217.30  \n",
              "2            2           3         1,105.08  \n",
              "3            3           4         6,934.81  \n",
              "4            3           1        16,505.62  \n",
              "...        ...         ...              ...  \n",
              "4995         6           1          -516.14  \n",
              "4996         4           5         2,740.60  \n",
              "4997         4           2         5,208.72  \n",
              "4998         4           6         1,710.77  \n",
              "4999         5           3           653.15  \n",
              "\n",
              "[5000 rows x 13 columns]"
            ],
            "text/html": [
              "\n",
              "  <div id=\"df-6c806149-7307-46e4-bc81-53c72b842152\">\n",
              "    <div class=\"colab-df-container\">\n",
              "      <div>\n",
              "<style scoped>\n",
              "    .dataframe tbody tr th:only-of-type {\n",
              "        vertical-align: middle;\n",
              "    }\n",
              "\n",
              "    .dataframe tbody tr th {\n",
              "        vertical-align: top;\n",
              "    }\n",
              "\n",
              "    .dataframe thead th {\n",
              "        text-align: right;\n",
              "    }\n",
              "</style>\n",
              "<table border=\"1\" class=\"dataframe\">\n",
              "  <thead>\n",
              "    <tr style=\"text-align: right;\">\n",
              "      <th></th>\n",
              "      <th>carat</th>\n",
              "      <th>cut</th>\n",
              "      <th>color</th>\n",
              "      <th>clarity</th>\n",
              "      <th>depth</th>\n",
              "      <th>table</th>\n",
              "      <th>x</th>\n",
              "      <th>y</th>\n",
              "      <th>z</th>\n",
              "      <th>cut_No</th>\n",
              "      <th>color_No</th>\n",
              "      <th>clarity_No</th>\n",
              "      <th>price_predicted</th>\n",
              "    </tr>\n",
              "  </thead>\n",
              "  <tbody>\n",
              "    <tr>\n",
              "      <th>0</th>\n",
              "      <td>0.91</td>\n",
              "      <td>Very Good</td>\n",
              "      <td>H</td>\n",
              "      <td>SI2</td>\n",
              "      <td>63.40</td>\n",
              "      <td>57.00</td>\n",
              "      <td>6.10</td>\n",
              "      <td>6.18</td>\n",
              "      <td>3.89</td>\n",
              "      <td>2</td>\n",
              "      <td>2</td>\n",
              "      <td>1</td>\n",
              "      <td>3,161.13</td>\n",
              "    </tr>\n",
              "    <tr>\n",
              "      <th>1</th>\n",
              "      <td>0.38</td>\n",
              "      <td>Good</td>\n",
              "      <td>F</td>\n",
              "      <td>VS2</td>\n",
              "      <td>60.30</td>\n",
              "      <td>61.00</td>\n",
              "      <td>4.68</td>\n",
              "      <td>4.71</td>\n",
              "      <td>2.83</td>\n",
              "      <td>1</td>\n",
              "      <td>4</td>\n",
              "      <td>3</td>\n",
              "      <td>217.30</td>\n",
              "    </tr>\n",
              "    <tr>\n",
              "      <th>2</th>\n",
              "      <td>0.52</td>\n",
              "      <td>Ideal</td>\n",
              "      <td>H</td>\n",
              "      <td>VS2</td>\n",
              "      <td>61.80</td>\n",
              "      <td>56.00</td>\n",
              "      <td>5.19</td>\n",
              "      <td>5.16</td>\n",
              "      <td>3.20</td>\n",
              "      <td>4</td>\n",
              "      <td>2</td>\n",
              "      <td>3</td>\n",
              "      <td>1,105.08</td>\n",
              "    </tr>\n",
              "    <tr>\n",
              "      <th>3</th>\n",
              "      <td>1.10</td>\n",
              "      <td>Ideal</td>\n",
              "      <td>G</td>\n",
              "      <td>VS1</td>\n",
              "      <td>61.30</td>\n",
              "      <td>56.00</td>\n",
              "      <td>6.65</td>\n",
              "      <td>6.69</td>\n",
              "      <td>4.09</td>\n",
              "      <td>4</td>\n",
              "      <td>3</td>\n",
              "      <td>4</td>\n",
              "      <td>6,934.81</td>\n",
              "    </tr>\n",
              "    <tr>\n",
              "      <th>4</th>\n",
              "      <td>2.28</td>\n",
              "      <td>Ideal</td>\n",
              "      <td>G</td>\n",
              "      <td>SI2</td>\n",
              "      <td>61.60</td>\n",
              "      <td>57.00</td>\n",
              "      <td>8.44</td>\n",
              "      <td>8.37</td>\n",
              "      <td>5.18</td>\n",
              "      <td>4</td>\n",
              "      <td>3</td>\n",
              "      <td>1</td>\n",
              "      <td>16,505.62</td>\n",
              "    </tr>\n",
              "    <tr>\n",
              "      <th>...</th>\n",
              "      <td>...</td>\n",
              "      <td>...</td>\n",
              "      <td>...</td>\n",
              "      <td>...</td>\n",
              "      <td>...</td>\n",
              "      <td>...</td>\n",
              "      <td>...</td>\n",
              "      <td>...</td>\n",
              "      <td>...</td>\n",
              "      <td>...</td>\n",
              "      <td>...</td>\n",
              "      <td>...</td>\n",
              "      <td>...</td>\n",
              "    </tr>\n",
              "    <tr>\n",
              "      <th>4995</th>\n",
              "      <td>0.30</td>\n",
              "      <td>Very Good</td>\n",
              "      <td>D</td>\n",
              "      <td>SI2</td>\n",
              "      <td>62.20</td>\n",
              "      <td>59.00</td>\n",
              "      <td>4.25</td>\n",
              "      <td>4.30</td>\n",
              "      <td>2.66</td>\n",
              "      <td>2</td>\n",
              "      <td>6</td>\n",
              "      <td>1</td>\n",
              "      <td>-516.14</td>\n",
              "    </tr>\n",
              "    <tr>\n",
              "      <th>4996</th>\n",
              "      <td>0.51</td>\n",
              "      <td>Ideal</td>\n",
              "      <td>F</td>\n",
              "      <td>VVS2</td>\n",
              "      <td>61.90</td>\n",
              "      <td>56.00</td>\n",
              "      <td>5.09</td>\n",
              "      <td>5.14</td>\n",
              "      <td>3.16</td>\n",
              "      <td>4</td>\n",
              "      <td>4</td>\n",
              "      <td>5</td>\n",
              "      <td>2,740.60</td>\n",
              "    </tr>\n",
              "    <tr>\n",
              "      <th>4997</th>\n",
              "      <td>1.01</td>\n",
              "      <td>Very Good</td>\n",
              "      <td>F</td>\n",
              "      <td>SI1</td>\n",
              "      <td>60.60</td>\n",
              "      <td>60.00</td>\n",
              "      <td>6.37</td>\n",
              "      <td>6.43</td>\n",
              "      <td>3.88</td>\n",
              "      <td>2</td>\n",
              "      <td>4</td>\n",
              "      <td>2</td>\n",
              "      <td>5,208.72</td>\n",
              "    </tr>\n",
              "    <tr>\n",
              "      <th>4998</th>\n",
              "      <td>0.31</td>\n",
              "      <td>Ideal</td>\n",
              "      <td>F</td>\n",
              "      <td>VVS1</td>\n",
              "      <td>62.10</td>\n",
              "      <td>56.00</td>\n",
              "      <td>4.35</td>\n",
              "      <td>4.38</td>\n",
              "      <td>2.71</td>\n",
              "      <td>4</td>\n",
              "      <td>4</td>\n",
              "      <td>6</td>\n",
              "      <td>1,710.77</td>\n",
              "    </tr>\n",
              "    <tr>\n",
              "      <th>4999</th>\n",
              "      <td>0.33</td>\n",
              "      <td>Ideal</td>\n",
              "      <td>E</td>\n",
              "      <td>VS2</td>\n",
              "      <td>61.80</td>\n",
              "      <td>55.00</td>\n",
              "      <td>4.45</td>\n",
              "      <td>4.48</td>\n",
              "      <td>2.76</td>\n",
              "      <td>4</td>\n",
              "      <td>5</td>\n",
              "      <td>3</td>\n",
              "      <td>653.15</td>\n",
              "    </tr>\n",
              "  </tbody>\n",
              "</table>\n",
              "<p>5000 rows × 13 columns</p>\n",
              "</div>\n",
              "      <button class=\"colab-df-convert\" onclick=\"convertToInteractive('df-6c806149-7307-46e4-bc81-53c72b842152')\"\n",
              "              title=\"Convert this dataframe to an interactive table.\"\n",
              "              style=\"display:none;\">\n",
              "        \n",
              "  <svg xmlns=\"http://www.w3.org/2000/svg\" height=\"24px\"viewBox=\"0 0 24 24\"\n",
              "       width=\"24px\">\n",
              "    <path d=\"M0 0h24v24H0V0z\" fill=\"none\"/>\n",
              "    <path d=\"M18.56 5.44l.94 2.06.94-2.06 2.06-.94-2.06-.94-.94-2.06-.94 2.06-2.06.94zm-11 1L8.5 8.5l.94-2.06 2.06-.94-2.06-.94L8.5 2.5l-.94 2.06-2.06.94zm10 10l.94 2.06.94-2.06 2.06-.94-2.06-.94-.94-2.06-.94 2.06-2.06.94z\"/><path d=\"M17.41 7.96l-1.37-1.37c-.4-.4-.92-.59-1.43-.59-.52 0-1.04.2-1.43.59L10.3 9.45l-7.72 7.72c-.78.78-.78 2.05 0 2.83L4 21.41c.39.39.9.59 1.41.59.51 0 1.02-.2 1.41-.59l7.78-7.78 2.81-2.81c.8-.78.8-2.07 0-2.86zM5.41 20L4 18.59l7.72-7.72 1.47 1.35L5.41 20z\"/>\n",
              "  </svg>\n",
              "      </button>\n",
              "      \n",
              "  <style>\n",
              "    .colab-df-container {\n",
              "      display:flex;\n",
              "      flex-wrap:wrap;\n",
              "      gap: 12px;\n",
              "    }\n",
              "\n",
              "    .colab-df-convert {\n",
              "      background-color: #E8F0FE;\n",
              "      border: none;\n",
              "      border-radius: 50%;\n",
              "      cursor: pointer;\n",
              "      display: none;\n",
              "      fill: #1967D2;\n",
              "      height: 32px;\n",
              "      padding: 0 0 0 0;\n",
              "      width: 32px;\n",
              "    }\n",
              "\n",
              "    .colab-df-convert:hover {\n",
              "      background-color: #E2EBFA;\n",
              "      box-shadow: 0px 1px 2px rgba(60, 64, 67, 0.3), 0px 1px 3px 1px rgba(60, 64, 67, 0.15);\n",
              "      fill: #174EA6;\n",
              "    }\n",
              "\n",
              "    [theme=dark] .colab-df-convert {\n",
              "      background-color: #3B4455;\n",
              "      fill: #D2E3FC;\n",
              "    }\n",
              "\n",
              "    [theme=dark] .colab-df-convert:hover {\n",
              "      background-color: #434B5C;\n",
              "      box-shadow: 0px 1px 3px 1px rgba(0, 0, 0, 0.15);\n",
              "      filter: drop-shadow(0px 1px 2px rgba(0, 0, 0, 0.3));\n",
              "      fill: #FFFFFF;\n",
              "    }\n",
              "  </style>\n",
              "\n",
              "      <script>\n",
              "        const buttonEl =\n",
              "          document.querySelector('#df-6c806149-7307-46e4-bc81-53c72b842152 button.colab-df-convert');\n",
              "        buttonEl.style.display =\n",
              "          google.colab.kernel.accessAllowed ? 'block' : 'none';\n",
              "\n",
              "        async function convertToInteractive(key) {\n",
              "          const element = document.querySelector('#df-6c806149-7307-46e4-bc81-53c72b842152');\n",
              "          const dataTable =\n",
              "            await google.colab.kernel.invokeFunction('convertToInteractive',\n",
              "                                                     [key], {});\n",
              "          if (!dataTable) return;\n",
              "\n",
              "          const docLinkHtml = 'Like what you see? Visit the ' +\n",
              "            '<a target=\"_blank\" href=https://colab.research.google.com/notebooks/data_table.ipynb>data table notebook</a>'\n",
              "            + ' to learn more about interactive tables.';\n",
              "          element.innerHTML = '';\n",
              "          dataTable['output_type'] = 'display_data';\n",
              "          await google.colab.output.renderOutput(dataTable, element);\n",
              "          const docLink = document.createElement('div');\n",
              "          docLink.innerHTML = docLinkHtml;\n",
              "          element.appendChild(docLink);\n",
              "        }\n",
              "      </script>\n",
              "    </div>\n",
              "  </div>\n",
              "  "
            ]
          },
          "metadata": {},
          "execution_count": 33
        }
      ]
    },
    {
      "cell_type": "code",
      "source": [
        "mask_low_values = df_rick_diamonds['price_predicted'] < df_diamonds['price'].min()\n",
        "df_rick_diamonds.loc[mask_low_values,'price_predicted']=df_diamonds['price'].min()"
      ],
      "metadata": {
        "id": "78JcOmoJRmyM"
      },
      "execution_count": 34,
      "outputs": []
    },
    {
      "cell_type": "markdown",
      "source": [
        "##Save results"
      ],
      "metadata": {
        "id": "xGUnlwJEJrVO"
      }
    },
    {
      "cell_type": "code",
      "source": [
        "df_rick_diamonds.to_csv('diamonds_results.csv')"
      ],
      "metadata": {
        "id": "-GsjvS6CFnGv"
      },
      "execution_count": 35,
      "outputs": []
    },
    {
      "cell_type": "code",
      "source": [
        "from google.colab import files\n",
        "files.download('diamonds_results.csv')"
      ],
      "metadata": {
        "colab": {
          "base_uri": "https://localhost:8080/",
          "height": 17
        },
        "id": "U0zwa5KdFnJw",
        "outputId": "ad220f68-83d3-4ac9-a64f-c6ef8b9a509e"
      },
      "execution_count": 36,
      "outputs": [
        {
          "output_type": "display_data",
          "data": {
            "text/plain": [
              "<IPython.core.display.Javascript object>"
            ],
            "application/javascript": [
              "\n",
              "    async function download(id, filename, size) {\n",
              "      if (!google.colab.kernel.accessAllowed) {\n",
              "        return;\n",
              "      }\n",
              "      const div = document.createElement('div');\n",
              "      const label = document.createElement('label');\n",
              "      label.textContent = `Downloading \"${filename}\": `;\n",
              "      div.appendChild(label);\n",
              "      const progress = document.createElement('progress');\n",
              "      progress.max = size;\n",
              "      div.appendChild(progress);\n",
              "      document.body.appendChild(div);\n",
              "\n",
              "      const buffers = [];\n",
              "      let downloaded = 0;\n",
              "\n",
              "      const channel = await google.colab.kernel.comms.open(id);\n",
              "      // Send a message to notify the kernel that we're ready.\n",
              "      channel.send({})\n",
              "\n",
              "      for await (const message of channel.messages) {\n",
              "        // Send a message to notify the kernel that we're ready.\n",
              "        channel.send({})\n",
              "        if (message.buffers) {\n",
              "          for (const buffer of message.buffers) {\n",
              "            buffers.push(buffer);\n",
              "            downloaded += buffer.byteLength;\n",
              "            progress.value = downloaded;\n",
              "          }\n",
              "        }\n",
              "      }\n",
              "      const blob = new Blob(buffers, {type: 'application/binary'});\n",
              "      const a = document.createElement('a');\n",
              "      a.href = window.URL.createObjectURL(blob);\n",
              "      a.download = filename;\n",
              "      div.appendChild(a);\n",
              "      a.click();\n",
              "      div.remove();\n",
              "    }\n",
              "  "
            ]
          },
          "metadata": {}
        },
        {
          "output_type": "display_data",
          "data": {
            "text/plain": [
              "<IPython.core.display.Javascript object>"
            ],
            "application/javascript": [
              "download(\"download_23aba26b-75e6-4806-ab9b-43fc6bbf5705\", \"diamonds_results.csv\", 351938)"
            ]
          },
          "metadata": {}
        }
      ]
    },
    {
      "cell_type": "markdown",
      "source": [
        "##Version documentation\n",
        "\n",
        "Prediction with historical average price, RMSE = 3980.713882502374\n",
        "\n",
        "Prediction with historical price median, RMSE = 4255.533080942974\n",
        "\n",
        "Prediction with simple linear regression model using the variable 'carat', RMSE = 1605.15175707362\n",
        "\n",
        "Prediction with multiple linear regression model using variables 'carat' and 'cut_No', RMSE = 1578.5538450152076 (a negative value, -201.82, appeared in the column 'price_predicted')\n",
        "\n",
        "**Results with low values correction**:\n",
        "\n",
        "Prediction with multiple linear regression model using variables 'carat' and 'cut_No', RMSE = 1560.3875526620348\n",
        "\n",
        "Prediction with multiple linear regression model using variables 'carat', 'cut_No' and 'color_No', RMSE = 1494.3832889738444\n",
        "\n",
        "Prediction with multiple linear regression model using variables 'carat', 'cut_No', 'color_No' and 'clarity_No', RMSE = 1226.9362366819055\n",
        "\n",
        "Prediction with multiple linear regression model using variables 'carat', 'cut_No', 'color_No', 'clarity_No' and 'x', RMSE = 1240.4099341776305\n",
        "\n",
        "**Results after drop 18 rows with value 0 in columns 'x', 'y' or 'z' (18 out of 48940):**\n",
        "\n",
        "Prediction with multiple linear regression model using variables 'carat', 'cut_No', 'color_No', 'clarity_No' and 'x', RMSE = 1242.9898663407414\n",
        "\n",
        "Prediction with multiple linear regression model using variables 'carat', 'cut_No', 'color_No', 'clarity_No', 'x' and 'y', RMSE = 1242.601308595802\n",
        "\n",
        "Prediction with multiple linear regression model using variables 'carat', 'cut_No', 'color_No', 'clarity_No', 'x', 'y' and 'z', RMSE = 1243.017142456451\n",
        "\n",
        "Prediction with multiple linear regression model using variables 'carat', 'cut_No', 'color_No' and 'clarity_No', RMSE = 1227.0395614594963\n",
        "\n",
        "**Dropping the 18 lines didn't bring better results, so undoing it.**\n",
        "\n",
        "Best model so far: Prediction with multiple linear regression model using variables 'carat', 'cut_No', 'color_No' and 'clarity_No', RMSE = 1226.9362366819055\n"
      ],
      "metadata": {
        "id": "I6ZzxQqvIw0q"
      }
    },
    {
      "cell_type": "code",
      "source": [],
      "metadata": {
        "id": "gL6OsE78LpRy"
      },
      "execution_count": null,
      "outputs": []
    }
  ]
}