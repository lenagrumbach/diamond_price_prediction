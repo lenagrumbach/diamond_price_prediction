{
  "nbformat": 4,
  "nbformat_minor": 0,
  "metadata": {
    "colab": {
      "provenance": [],
      "authorship_tag": "ABX9TyMcbsOSOs3RVQ1EYpM4iVgN",
      "include_colab_link": true
    },
    "kernelspec": {
      "name": "python3",
      "display_name": "Python 3"
    },
    "language_info": {
      "name": "python"
    }
  },
  "cells": [
    {
      "cell_type": "markdown",
      "metadata": {
        "id": "view-in-github",
        "colab_type": "text"
      },
      "source": [
        "<a href=\"https://colab.research.google.com/github/lenagrumbach/diamond_price_prediction/blob/main/diamond_price_prediction.ipynb\" target=\"_parent\"><img src=\"https://colab.research.google.com/assets/colab-badge.svg\" alt=\"Open In Colab\"/></a>"
      ]
    },
    {
      "cell_type": "markdown",
      "source": [
        "##Import Libraries"
      ],
      "metadata": {
        "id": "EE_nev39JHTa"
      }
    },
    {
      "cell_type": "code",
      "execution_count": 1,
      "metadata": {
        "id": "m-bH8IMREgYm"
      },
      "outputs": [],
      "source": [
        "import pandas as pd\n",
        "import numpy as np\n",
        "import matplotlib.pyplot as plt\n",
        "import seaborn as sns\n",
        "from sklearn.linear_model import LinearRegression\n",
        "import statsmodels.api as sm\n",
        "from sklearn.model_selection import train_test_split\n",
        "from sklearn.metrics import mean_squared_error\n",
        "from sklearn.ensemble import RandomForestRegressor\n",
        "pd.options.display.float_format = '{:,.2f}'.format"
      ]
    },
    {
      "cell_type": "markdown",
      "source": [
        "##Import Data"
      ],
      "metadata": {
        "id": "o8Obr_6mJPVZ"
      }
    },
    {
      "cell_type": "code",
      "source": [
        "from google.colab import drive\n",
        " \n",
        "drive.mount('/drive')"
      ],
      "metadata": {
        "colab": {
          "base_uri": "https://localhost:8080/"
        },
        "id": "gElcArwmEl-q",
        "outputId": "b1e33e49-f0e1-42b4-bfca-f03b9dd35a89"
      },
      "execution_count": 2,
      "outputs": [
        {
          "output_type": "stream",
          "name": "stdout",
          "text": [
            "Drive already mounted at /drive; to attempt to forcibly remount, call drive.mount(\"/drive\", force_remount=True).\n"
          ]
        }
      ]
    },
    {
      "cell_type": "code",
      "source": [
        "df_diamonds = pd.read_csv('/drive/MyDrive/Diamantes/diamonds.csv')"
      ],
      "metadata": {
        "id": "7oix3PBKkx0W"
      },
      "execution_count": 3,
      "outputs": []
    },
    {
      "cell_type": "code",
      "source": [
        "df_rick_diamonds = pd.read_csv('/drive/MyDrive/Diamantes/rick_diamonds.csv')"
      ],
      "metadata": {
        "id": "QNpsimBQkyAF"
      },
      "execution_count": 4,
      "outputs": []
    },
    {
      "cell_type": "markdown",
      "source": [
        "##Exploratory Data Analysis (EDA)"
      ],
      "metadata": {
        "id": "nPzELLfxJalN"
      }
    },
    {
      "cell_type": "code",
      "source": [
        "display(df_diamonds)"
      ],
      "metadata": {
        "colab": {
          "base_uri": "https://localhost:8080/",
          "height": 424
        },
        "id": "ypo8CXJTEmE7",
        "outputId": "0290acfa-63d3-464f-d956-91ddcb46bd77"
      },
      "execution_count": 5,
      "outputs": [
        {
          "output_type": "display_data",
          "data": {
            "text/plain": [
              "       carat        cut color clarity  depth  table  price    x    y    z\n",
              "0       0.21    Premium     E     SI1  59.80  61.00    326 3.89 3.84 2.31\n",
              "1       0.23       Good     E     VS1  56.90  65.00    327 4.05 4.07 2.31\n",
              "2       0.29    Premium     I     VS2  62.40  58.00    334 4.20 4.23 2.63\n",
              "3       0.31       Good     J     SI2  63.30  58.00    335 4.34 4.35 2.75\n",
              "4       0.24  Very Good     J    VVS2  62.80  57.00    336 3.94 3.96 2.48\n",
              "...      ...        ...   ...     ...    ...    ...    ...  ...  ...  ...\n",
              "48935   0.72    Premium     D     SI1  62.70  59.00   2757 5.69 5.73 3.58\n",
              "48936   0.72      Ideal     D     SI1  60.80  57.00   2757 5.75 5.76 3.50\n",
              "48937   0.72       Good     D     SI1  63.10  55.00   2757 5.69 5.75 3.61\n",
              "48938   0.70  Very Good     D     SI1  62.80  60.00   2757 5.66 5.68 3.56\n",
              "48939   0.75      Ideal     D     SI2  62.20  55.00   2757 5.83 5.87 3.64\n",
              "\n",
              "[48940 rows x 10 columns]"
            ],
            "text/html": [
              "\n",
              "  <div id=\"df-a0cc9a71-918e-4728-934f-7110ec987998\">\n",
              "    <div class=\"colab-df-container\">\n",
              "      <div>\n",
              "<style scoped>\n",
              "    .dataframe tbody tr th:only-of-type {\n",
              "        vertical-align: middle;\n",
              "    }\n",
              "\n",
              "    .dataframe tbody tr th {\n",
              "        vertical-align: top;\n",
              "    }\n",
              "\n",
              "    .dataframe thead th {\n",
              "        text-align: right;\n",
              "    }\n",
              "</style>\n",
              "<table border=\"1\" class=\"dataframe\">\n",
              "  <thead>\n",
              "    <tr style=\"text-align: right;\">\n",
              "      <th></th>\n",
              "      <th>carat</th>\n",
              "      <th>cut</th>\n",
              "      <th>color</th>\n",
              "      <th>clarity</th>\n",
              "      <th>depth</th>\n",
              "      <th>table</th>\n",
              "      <th>price</th>\n",
              "      <th>x</th>\n",
              "      <th>y</th>\n",
              "      <th>z</th>\n",
              "    </tr>\n",
              "  </thead>\n",
              "  <tbody>\n",
              "    <tr>\n",
              "      <th>0</th>\n",
              "      <td>0.21</td>\n",
              "      <td>Premium</td>\n",
              "      <td>E</td>\n",
              "      <td>SI1</td>\n",
              "      <td>59.80</td>\n",
              "      <td>61.00</td>\n",
              "      <td>326</td>\n",
              "      <td>3.89</td>\n",
              "      <td>3.84</td>\n",
              "      <td>2.31</td>\n",
              "    </tr>\n",
              "    <tr>\n",
              "      <th>1</th>\n",
              "      <td>0.23</td>\n",
              "      <td>Good</td>\n",
              "      <td>E</td>\n",
              "      <td>VS1</td>\n",
              "      <td>56.90</td>\n",
              "      <td>65.00</td>\n",
              "      <td>327</td>\n",
              "      <td>4.05</td>\n",
              "      <td>4.07</td>\n",
              "      <td>2.31</td>\n",
              "    </tr>\n",
              "    <tr>\n",
              "      <th>2</th>\n",
              "      <td>0.29</td>\n",
              "      <td>Premium</td>\n",
              "      <td>I</td>\n",
              "      <td>VS2</td>\n",
              "      <td>62.40</td>\n",
              "      <td>58.00</td>\n",
              "      <td>334</td>\n",
              "      <td>4.20</td>\n",
              "      <td>4.23</td>\n",
              "      <td>2.63</td>\n",
              "    </tr>\n",
              "    <tr>\n",
              "      <th>3</th>\n",
              "      <td>0.31</td>\n",
              "      <td>Good</td>\n",
              "      <td>J</td>\n",
              "      <td>SI2</td>\n",
              "      <td>63.30</td>\n",
              "      <td>58.00</td>\n",
              "      <td>335</td>\n",
              "      <td>4.34</td>\n",
              "      <td>4.35</td>\n",
              "      <td>2.75</td>\n",
              "    </tr>\n",
              "    <tr>\n",
              "      <th>4</th>\n",
              "      <td>0.24</td>\n",
              "      <td>Very Good</td>\n",
              "      <td>J</td>\n",
              "      <td>VVS2</td>\n",
              "      <td>62.80</td>\n",
              "      <td>57.00</td>\n",
              "      <td>336</td>\n",
              "      <td>3.94</td>\n",
              "      <td>3.96</td>\n",
              "      <td>2.48</td>\n",
              "    </tr>\n",
              "    <tr>\n",
              "      <th>...</th>\n",
              "      <td>...</td>\n",
              "      <td>...</td>\n",
              "      <td>...</td>\n",
              "      <td>...</td>\n",
              "      <td>...</td>\n",
              "      <td>...</td>\n",
              "      <td>...</td>\n",
              "      <td>...</td>\n",
              "      <td>...</td>\n",
              "      <td>...</td>\n",
              "    </tr>\n",
              "    <tr>\n",
              "      <th>48935</th>\n",
              "      <td>0.72</td>\n",
              "      <td>Premium</td>\n",
              "      <td>D</td>\n",
              "      <td>SI1</td>\n",
              "      <td>62.70</td>\n",
              "      <td>59.00</td>\n",
              "      <td>2757</td>\n",
              "      <td>5.69</td>\n",
              "      <td>5.73</td>\n",
              "      <td>3.58</td>\n",
              "    </tr>\n",
              "    <tr>\n",
              "      <th>48936</th>\n",
              "      <td>0.72</td>\n",
              "      <td>Ideal</td>\n",
              "      <td>D</td>\n",
              "      <td>SI1</td>\n",
              "      <td>60.80</td>\n",
              "      <td>57.00</td>\n",
              "      <td>2757</td>\n",
              "      <td>5.75</td>\n",
              "      <td>5.76</td>\n",
              "      <td>3.50</td>\n",
              "    </tr>\n",
              "    <tr>\n",
              "      <th>48937</th>\n",
              "      <td>0.72</td>\n",
              "      <td>Good</td>\n",
              "      <td>D</td>\n",
              "      <td>SI1</td>\n",
              "      <td>63.10</td>\n",
              "      <td>55.00</td>\n",
              "      <td>2757</td>\n",
              "      <td>5.69</td>\n",
              "      <td>5.75</td>\n",
              "      <td>3.61</td>\n",
              "    </tr>\n",
              "    <tr>\n",
              "      <th>48938</th>\n",
              "      <td>0.70</td>\n",
              "      <td>Very Good</td>\n",
              "      <td>D</td>\n",
              "      <td>SI1</td>\n",
              "      <td>62.80</td>\n",
              "      <td>60.00</td>\n",
              "      <td>2757</td>\n",
              "      <td>5.66</td>\n",
              "      <td>5.68</td>\n",
              "      <td>3.56</td>\n",
              "    </tr>\n",
              "    <tr>\n",
              "      <th>48939</th>\n",
              "      <td>0.75</td>\n",
              "      <td>Ideal</td>\n",
              "      <td>D</td>\n",
              "      <td>SI2</td>\n",
              "      <td>62.20</td>\n",
              "      <td>55.00</td>\n",
              "      <td>2757</td>\n",
              "      <td>5.83</td>\n",
              "      <td>5.87</td>\n",
              "      <td>3.64</td>\n",
              "    </tr>\n",
              "  </tbody>\n",
              "</table>\n",
              "<p>48940 rows × 10 columns</p>\n",
              "</div>\n",
              "      <button class=\"colab-df-convert\" onclick=\"convertToInteractive('df-a0cc9a71-918e-4728-934f-7110ec987998')\"\n",
              "              title=\"Convert this dataframe to an interactive table.\"\n",
              "              style=\"display:none;\">\n",
              "        \n",
              "  <svg xmlns=\"http://www.w3.org/2000/svg\" height=\"24px\"viewBox=\"0 0 24 24\"\n",
              "       width=\"24px\">\n",
              "    <path d=\"M0 0h24v24H0V0z\" fill=\"none\"/>\n",
              "    <path d=\"M18.56 5.44l.94 2.06.94-2.06 2.06-.94-2.06-.94-.94-2.06-.94 2.06-2.06.94zm-11 1L8.5 8.5l.94-2.06 2.06-.94-2.06-.94L8.5 2.5l-.94 2.06-2.06.94zm10 10l.94 2.06.94-2.06 2.06-.94-2.06-.94-.94-2.06-.94 2.06-2.06.94z\"/><path d=\"M17.41 7.96l-1.37-1.37c-.4-.4-.92-.59-1.43-.59-.52 0-1.04.2-1.43.59L10.3 9.45l-7.72 7.72c-.78.78-.78 2.05 0 2.83L4 21.41c.39.39.9.59 1.41.59.51 0 1.02-.2 1.41-.59l7.78-7.78 2.81-2.81c.8-.78.8-2.07 0-2.86zM5.41 20L4 18.59l7.72-7.72 1.47 1.35L5.41 20z\"/>\n",
              "  </svg>\n",
              "      </button>\n",
              "      \n",
              "  <style>\n",
              "    .colab-df-container {\n",
              "      display:flex;\n",
              "      flex-wrap:wrap;\n",
              "      gap: 12px;\n",
              "    }\n",
              "\n",
              "    .colab-df-convert {\n",
              "      background-color: #E8F0FE;\n",
              "      border: none;\n",
              "      border-radius: 50%;\n",
              "      cursor: pointer;\n",
              "      display: none;\n",
              "      fill: #1967D2;\n",
              "      height: 32px;\n",
              "      padding: 0 0 0 0;\n",
              "      width: 32px;\n",
              "    }\n",
              "\n",
              "    .colab-df-convert:hover {\n",
              "      background-color: #E2EBFA;\n",
              "      box-shadow: 0px 1px 2px rgba(60, 64, 67, 0.3), 0px 1px 3px 1px rgba(60, 64, 67, 0.15);\n",
              "      fill: #174EA6;\n",
              "    }\n",
              "\n",
              "    [theme=dark] .colab-df-convert {\n",
              "      background-color: #3B4455;\n",
              "      fill: #D2E3FC;\n",
              "    }\n",
              "\n",
              "    [theme=dark] .colab-df-convert:hover {\n",
              "      background-color: #434B5C;\n",
              "      box-shadow: 0px 1px 3px 1px rgba(0, 0, 0, 0.15);\n",
              "      filter: drop-shadow(0px 1px 2px rgba(0, 0, 0, 0.3));\n",
              "      fill: #FFFFFF;\n",
              "    }\n",
              "  </style>\n",
              "\n",
              "      <script>\n",
              "        const buttonEl =\n",
              "          document.querySelector('#df-a0cc9a71-918e-4728-934f-7110ec987998 button.colab-df-convert');\n",
              "        buttonEl.style.display =\n",
              "          google.colab.kernel.accessAllowed ? 'block' : 'none';\n",
              "\n",
              "        async function convertToInteractive(key) {\n",
              "          const element = document.querySelector('#df-a0cc9a71-918e-4728-934f-7110ec987998');\n",
              "          const dataTable =\n",
              "            await google.colab.kernel.invokeFunction('convertToInteractive',\n",
              "                                                     [key], {});\n",
              "          if (!dataTable) return;\n",
              "\n",
              "          const docLinkHtml = 'Like what you see? Visit the ' +\n",
              "            '<a target=\"_blank\" href=https://colab.research.google.com/notebooks/data_table.ipynb>data table notebook</a>'\n",
              "            + ' to learn more about interactive tables.';\n",
              "          element.innerHTML = '';\n",
              "          dataTable['output_type'] = 'display_data';\n",
              "          await google.colab.output.renderOutput(dataTable, element);\n",
              "          const docLink = document.createElement('div');\n",
              "          docLink.innerHTML = docLinkHtml;\n",
              "          element.appendChild(docLink);\n",
              "        }\n",
              "      </script>\n",
              "    </div>\n",
              "  </div>\n",
              "  "
            ]
          },
          "metadata": {}
        }
      ]
    },
    {
      "cell_type": "code",
      "source": [
        "display(df_rick_diamonds)"
      ],
      "metadata": {
        "colab": {
          "base_uri": "https://localhost:8080/",
          "height": 424
        },
        "id": "7lGPl3qxEmB1",
        "outputId": "deb445fb-039f-4140-82f8-95738ef0913f"
      },
      "execution_count": 6,
      "outputs": [
        {
          "output_type": "display_data",
          "data": {
            "text/plain": [
              "      carat        cut color clarity  depth  table    x    y    z\n",
              "0      0.91  Very Good     H     SI2  63.40  57.00 6.10 6.18 3.89\n",
              "1      0.38       Good     F     VS2  60.30  61.00 4.68 4.71 2.83\n",
              "2      0.52      Ideal     H     VS2  61.80  56.00 5.19 5.16 3.20\n",
              "3      1.10      Ideal     G     VS1  61.30  56.00 6.65 6.69 4.09\n",
              "4      2.28      Ideal     G     SI2  61.60  57.00 8.44 8.37 5.18\n",
              "...     ...        ...   ...     ...    ...    ...  ...  ...  ...\n",
              "4995   0.30  Very Good     D     SI2  62.20  59.00 4.25 4.30 2.66\n",
              "4996   0.51      Ideal     F    VVS2  61.90  56.00 5.09 5.14 3.16\n",
              "4997   1.01  Very Good     F     SI1  60.60  60.00 6.37 6.43 3.88\n",
              "4998   0.31      Ideal     F    VVS1  62.10  56.00 4.35 4.38 2.71\n",
              "4999   0.33      Ideal     E     VS2  61.80  55.00 4.45 4.48 2.76\n",
              "\n",
              "[5000 rows x 9 columns]"
            ],
            "text/html": [
              "\n",
              "  <div id=\"df-b346110c-184a-4bb2-b855-0065815dd877\">\n",
              "    <div class=\"colab-df-container\">\n",
              "      <div>\n",
              "<style scoped>\n",
              "    .dataframe tbody tr th:only-of-type {\n",
              "        vertical-align: middle;\n",
              "    }\n",
              "\n",
              "    .dataframe tbody tr th {\n",
              "        vertical-align: top;\n",
              "    }\n",
              "\n",
              "    .dataframe thead th {\n",
              "        text-align: right;\n",
              "    }\n",
              "</style>\n",
              "<table border=\"1\" class=\"dataframe\">\n",
              "  <thead>\n",
              "    <tr style=\"text-align: right;\">\n",
              "      <th></th>\n",
              "      <th>carat</th>\n",
              "      <th>cut</th>\n",
              "      <th>color</th>\n",
              "      <th>clarity</th>\n",
              "      <th>depth</th>\n",
              "      <th>table</th>\n",
              "      <th>x</th>\n",
              "      <th>y</th>\n",
              "      <th>z</th>\n",
              "    </tr>\n",
              "  </thead>\n",
              "  <tbody>\n",
              "    <tr>\n",
              "      <th>0</th>\n",
              "      <td>0.91</td>\n",
              "      <td>Very Good</td>\n",
              "      <td>H</td>\n",
              "      <td>SI2</td>\n",
              "      <td>63.40</td>\n",
              "      <td>57.00</td>\n",
              "      <td>6.10</td>\n",
              "      <td>6.18</td>\n",
              "      <td>3.89</td>\n",
              "    </tr>\n",
              "    <tr>\n",
              "      <th>1</th>\n",
              "      <td>0.38</td>\n",
              "      <td>Good</td>\n",
              "      <td>F</td>\n",
              "      <td>VS2</td>\n",
              "      <td>60.30</td>\n",
              "      <td>61.00</td>\n",
              "      <td>4.68</td>\n",
              "      <td>4.71</td>\n",
              "      <td>2.83</td>\n",
              "    </tr>\n",
              "    <tr>\n",
              "      <th>2</th>\n",
              "      <td>0.52</td>\n",
              "      <td>Ideal</td>\n",
              "      <td>H</td>\n",
              "      <td>VS2</td>\n",
              "      <td>61.80</td>\n",
              "      <td>56.00</td>\n",
              "      <td>5.19</td>\n",
              "      <td>5.16</td>\n",
              "      <td>3.20</td>\n",
              "    </tr>\n",
              "    <tr>\n",
              "      <th>3</th>\n",
              "      <td>1.10</td>\n",
              "      <td>Ideal</td>\n",
              "      <td>G</td>\n",
              "      <td>VS1</td>\n",
              "      <td>61.30</td>\n",
              "      <td>56.00</td>\n",
              "      <td>6.65</td>\n",
              "      <td>6.69</td>\n",
              "      <td>4.09</td>\n",
              "    </tr>\n",
              "    <tr>\n",
              "      <th>4</th>\n",
              "      <td>2.28</td>\n",
              "      <td>Ideal</td>\n",
              "      <td>G</td>\n",
              "      <td>SI2</td>\n",
              "      <td>61.60</td>\n",
              "      <td>57.00</td>\n",
              "      <td>8.44</td>\n",
              "      <td>8.37</td>\n",
              "      <td>5.18</td>\n",
              "    </tr>\n",
              "    <tr>\n",
              "      <th>...</th>\n",
              "      <td>...</td>\n",
              "      <td>...</td>\n",
              "      <td>...</td>\n",
              "      <td>...</td>\n",
              "      <td>...</td>\n",
              "      <td>...</td>\n",
              "      <td>...</td>\n",
              "      <td>...</td>\n",
              "      <td>...</td>\n",
              "    </tr>\n",
              "    <tr>\n",
              "      <th>4995</th>\n",
              "      <td>0.30</td>\n",
              "      <td>Very Good</td>\n",
              "      <td>D</td>\n",
              "      <td>SI2</td>\n",
              "      <td>62.20</td>\n",
              "      <td>59.00</td>\n",
              "      <td>4.25</td>\n",
              "      <td>4.30</td>\n",
              "      <td>2.66</td>\n",
              "    </tr>\n",
              "    <tr>\n",
              "      <th>4996</th>\n",
              "      <td>0.51</td>\n",
              "      <td>Ideal</td>\n",
              "      <td>F</td>\n",
              "      <td>VVS2</td>\n",
              "      <td>61.90</td>\n",
              "      <td>56.00</td>\n",
              "      <td>5.09</td>\n",
              "      <td>5.14</td>\n",
              "      <td>3.16</td>\n",
              "    </tr>\n",
              "    <tr>\n",
              "      <th>4997</th>\n",
              "      <td>1.01</td>\n",
              "      <td>Very Good</td>\n",
              "      <td>F</td>\n",
              "      <td>SI1</td>\n",
              "      <td>60.60</td>\n",
              "      <td>60.00</td>\n",
              "      <td>6.37</td>\n",
              "      <td>6.43</td>\n",
              "      <td>3.88</td>\n",
              "    </tr>\n",
              "    <tr>\n",
              "      <th>4998</th>\n",
              "      <td>0.31</td>\n",
              "      <td>Ideal</td>\n",
              "      <td>F</td>\n",
              "      <td>VVS1</td>\n",
              "      <td>62.10</td>\n",
              "      <td>56.00</td>\n",
              "      <td>4.35</td>\n",
              "      <td>4.38</td>\n",
              "      <td>2.71</td>\n",
              "    </tr>\n",
              "    <tr>\n",
              "      <th>4999</th>\n",
              "      <td>0.33</td>\n",
              "      <td>Ideal</td>\n",
              "      <td>E</td>\n",
              "      <td>VS2</td>\n",
              "      <td>61.80</td>\n",
              "      <td>55.00</td>\n",
              "      <td>4.45</td>\n",
              "      <td>4.48</td>\n",
              "      <td>2.76</td>\n",
              "    </tr>\n",
              "  </tbody>\n",
              "</table>\n",
              "<p>5000 rows × 9 columns</p>\n",
              "</div>\n",
              "      <button class=\"colab-df-convert\" onclick=\"convertToInteractive('df-b346110c-184a-4bb2-b855-0065815dd877')\"\n",
              "              title=\"Convert this dataframe to an interactive table.\"\n",
              "              style=\"display:none;\">\n",
              "        \n",
              "  <svg xmlns=\"http://www.w3.org/2000/svg\" height=\"24px\"viewBox=\"0 0 24 24\"\n",
              "       width=\"24px\">\n",
              "    <path d=\"M0 0h24v24H0V0z\" fill=\"none\"/>\n",
              "    <path d=\"M18.56 5.44l.94 2.06.94-2.06 2.06-.94-2.06-.94-.94-2.06-.94 2.06-2.06.94zm-11 1L8.5 8.5l.94-2.06 2.06-.94-2.06-.94L8.5 2.5l-.94 2.06-2.06.94zm10 10l.94 2.06.94-2.06 2.06-.94-2.06-.94-.94-2.06-.94 2.06-2.06.94z\"/><path d=\"M17.41 7.96l-1.37-1.37c-.4-.4-.92-.59-1.43-.59-.52 0-1.04.2-1.43.59L10.3 9.45l-7.72 7.72c-.78.78-.78 2.05 0 2.83L4 21.41c.39.39.9.59 1.41.59.51 0 1.02-.2 1.41-.59l7.78-7.78 2.81-2.81c.8-.78.8-2.07 0-2.86zM5.41 20L4 18.59l7.72-7.72 1.47 1.35L5.41 20z\"/>\n",
              "  </svg>\n",
              "      </button>\n",
              "      \n",
              "  <style>\n",
              "    .colab-df-container {\n",
              "      display:flex;\n",
              "      flex-wrap:wrap;\n",
              "      gap: 12px;\n",
              "    }\n",
              "\n",
              "    .colab-df-convert {\n",
              "      background-color: #E8F0FE;\n",
              "      border: none;\n",
              "      border-radius: 50%;\n",
              "      cursor: pointer;\n",
              "      display: none;\n",
              "      fill: #1967D2;\n",
              "      height: 32px;\n",
              "      padding: 0 0 0 0;\n",
              "      width: 32px;\n",
              "    }\n",
              "\n",
              "    .colab-df-convert:hover {\n",
              "      background-color: #E2EBFA;\n",
              "      box-shadow: 0px 1px 2px rgba(60, 64, 67, 0.3), 0px 1px 3px 1px rgba(60, 64, 67, 0.15);\n",
              "      fill: #174EA6;\n",
              "    }\n",
              "\n",
              "    [theme=dark] .colab-df-convert {\n",
              "      background-color: #3B4455;\n",
              "      fill: #D2E3FC;\n",
              "    }\n",
              "\n",
              "    [theme=dark] .colab-df-convert:hover {\n",
              "      background-color: #434B5C;\n",
              "      box-shadow: 0px 1px 3px 1px rgba(0, 0, 0, 0.15);\n",
              "      filter: drop-shadow(0px 1px 2px rgba(0, 0, 0, 0.3));\n",
              "      fill: #FFFFFF;\n",
              "    }\n",
              "  </style>\n",
              "\n",
              "      <script>\n",
              "        const buttonEl =\n",
              "          document.querySelector('#df-b346110c-184a-4bb2-b855-0065815dd877 button.colab-df-convert');\n",
              "        buttonEl.style.display =\n",
              "          google.colab.kernel.accessAllowed ? 'block' : 'none';\n",
              "\n",
              "        async function convertToInteractive(key) {\n",
              "          const element = document.querySelector('#df-b346110c-184a-4bb2-b855-0065815dd877');\n",
              "          const dataTable =\n",
              "            await google.colab.kernel.invokeFunction('convertToInteractive',\n",
              "                                                     [key], {});\n",
              "          if (!dataTable) return;\n",
              "\n",
              "          const docLinkHtml = 'Like what you see? Visit the ' +\n",
              "            '<a target=\"_blank\" href=https://colab.research.google.com/notebooks/data_table.ipynb>data table notebook</a>'\n",
              "            + ' to learn more about interactive tables.';\n",
              "          element.innerHTML = '';\n",
              "          dataTable['output_type'] = 'display_data';\n",
              "          await google.colab.output.renderOutput(dataTable, element);\n",
              "          const docLink = document.createElement('div');\n",
              "          docLink.innerHTML = docLinkHtml;\n",
              "          element.appendChild(docLink);\n",
              "        }\n",
              "      </script>\n",
              "    </div>\n",
              "  </div>\n",
              "  "
            ]
          },
          "metadata": {}
        }
      ]
    },
    {
      "cell_type": "code",
      "source": [
        "df_diamonds.info()"
      ],
      "metadata": {
        "colab": {
          "base_uri": "https://localhost:8080/"
        },
        "id": "E8mLK18dNS5t",
        "outputId": "8a02aec9-3a5b-4fe5-867c-80554ceb7c7c"
      },
      "execution_count": 7,
      "outputs": [
        {
          "output_type": "stream",
          "name": "stdout",
          "text": [
            "<class 'pandas.core.frame.DataFrame'>\n",
            "RangeIndex: 48940 entries, 0 to 48939\n",
            "Data columns (total 10 columns):\n",
            " #   Column   Non-Null Count  Dtype  \n",
            "---  ------   --------------  -----  \n",
            " 0   carat    48940 non-null  float64\n",
            " 1   cut      48940 non-null  object \n",
            " 2   color    48940 non-null  object \n",
            " 3   clarity  48940 non-null  object \n",
            " 4   depth    48940 non-null  float64\n",
            " 5   table    48940 non-null  float64\n",
            " 6   price    48940 non-null  int64  \n",
            " 7   x        48940 non-null  float64\n",
            " 8   y        48940 non-null  float64\n",
            " 9   z        48940 non-null  float64\n",
            "dtypes: float64(6), int64(1), object(3)\n",
            "memory usage: 3.7+ MB\n"
          ]
        }
      ]
    },
    {
      "cell_type": "code",
      "source": [
        "df_rick_diamonds.info()"
      ],
      "metadata": {
        "colab": {
          "base_uri": "https://localhost:8080/"
        },
        "id": "KUP41K1ihS7p",
        "outputId": "60282ba9-2663-4239-e2d1-3379d1298cef"
      },
      "execution_count": 8,
      "outputs": [
        {
          "output_type": "stream",
          "name": "stdout",
          "text": [
            "<class 'pandas.core.frame.DataFrame'>\n",
            "RangeIndex: 5000 entries, 0 to 4999\n",
            "Data columns (total 9 columns):\n",
            " #   Column   Non-Null Count  Dtype  \n",
            "---  ------   --------------  -----  \n",
            " 0   carat    5000 non-null   float64\n",
            " 1   cut      5000 non-null   object \n",
            " 2   color    5000 non-null   object \n",
            " 3   clarity  5000 non-null   object \n",
            " 4   depth    5000 non-null   float64\n",
            " 5   table    5000 non-null   float64\n",
            " 6   x        5000 non-null   float64\n",
            " 7   y        5000 non-null   float64\n",
            " 8   z        5000 non-null   float64\n",
            "dtypes: float64(6), object(3)\n",
            "memory usage: 351.7+ KB\n"
          ]
        }
      ]
    },
    {
      "cell_type": "code",
      "source": [
        "df_diamonds.describe()"
      ],
      "metadata": {
        "colab": {
          "base_uri": "https://localhost:8080/",
          "height": 300
        },
        "id": "mT_1evWwNS_6",
        "outputId": "ecfa6e2b-3354-4704-e3cd-c41d654f52cf"
      },
      "execution_count": 9,
      "outputs": [
        {
          "output_type": "execute_result",
          "data": {
            "text/plain": [
              "          carat     depth     table     price         x         y         z\n",
              "count 48,940.00 48,940.00 48,940.00 48,940.00 48,940.00 48,940.00 48,940.00\n",
              "mean       0.80     61.75     57.45  3,934.41      5.73      5.73      3.54\n",
              "std        0.47      1.43      2.23  3,989.33      1.12      1.15      0.71\n",
              "min        0.20     43.00     43.00    326.00      0.00      0.00      0.00\n",
              "25%        0.40     61.00     56.00    949.00      4.71      4.72      2.91\n",
              "50%        0.70     61.80     57.00  2,401.00      5.69      5.71      3.52\n",
              "75%        1.04     62.50     59.00  5,331.25      6.54      6.54      4.04\n",
              "max        5.01     79.00     95.00 18,823.00     10.74     58.90     31.80"
            ],
            "text/html": [
              "\n",
              "  <div id=\"df-4cca02c8-0642-44a1-9d77-deb4c0e34fa9\">\n",
              "    <div class=\"colab-df-container\">\n",
              "      <div>\n",
              "<style scoped>\n",
              "    .dataframe tbody tr th:only-of-type {\n",
              "        vertical-align: middle;\n",
              "    }\n",
              "\n",
              "    .dataframe tbody tr th {\n",
              "        vertical-align: top;\n",
              "    }\n",
              "\n",
              "    .dataframe thead th {\n",
              "        text-align: right;\n",
              "    }\n",
              "</style>\n",
              "<table border=\"1\" class=\"dataframe\">\n",
              "  <thead>\n",
              "    <tr style=\"text-align: right;\">\n",
              "      <th></th>\n",
              "      <th>carat</th>\n",
              "      <th>depth</th>\n",
              "      <th>table</th>\n",
              "      <th>price</th>\n",
              "      <th>x</th>\n",
              "      <th>y</th>\n",
              "      <th>z</th>\n",
              "    </tr>\n",
              "  </thead>\n",
              "  <tbody>\n",
              "    <tr>\n",
              "      <th>count</th>\n",
              "      <td>48,940.00</td>\n",
              "      <td>48,940.00</td>\n",
              "      <td>48,940.00</td>\n",
              "      <td>48,940.00</td>\n",
              "      <td>48,940.00</td>\n",
              "      <td>48,940.00</td>\n",
              "      <td>48,940.00</td>\n",
              "    </tr>\n",
              "    <tr>\n",
              "      <th>mean</th>\n",
              "      <td>0.80</td>\n",
              "      <td>61.75</td>\n",
              "      <td>57.45</td>\n",
              "      <td>3,934.41</td>\n",
              "      <td>5.73</td>\n",
              "      <td>5.73</td>\n",
              "      <td>3.54</td>\n",
              "    </tr>\n",
              "    <tr>\n",
              "      <th>std</th>\n",
              "      <td>0.47</td>\n",
              "      <td>1.43</td>\n",
              "      <td>2.23</td>\n",
              "      <td>3,989.33</td>\n",
              "      <td>1.12</td>\n",
              "      <td>1.15</td>\n",
              "      <td>0.71</td>\n",
              "    </tr>\n",
              "    <tr>\n",
              "      <th>min</th>\n",
              "      <td>0.20</td>\n",
              "      <td>43.00</td>\n",
              "      <td>43.00</td>\n",
              "      <td>326.00</td>\n",
              "      <td>0.00</td>\n",
              "      <td>0.00</td>\n",
              "      <td>0.00</td>\n",
              "    </tr>\n",
              "    <tr>\n",
              "      <th>25%</th>\n",
              "      <td>0.40</td>\n",
              "      <td>61.00</td>\n",
              "      <td>56.00</td>\n",
              "      <td>949.00</td>\n",
              "      <td>4.71</td>\n",
              "      <td>4.72</td>\n",
              "      <td>2.91</td>\n",
              "    </tr>\n",
              "    <tr>\n",
              "      <th>50%</th>\n",
              "      <td>0.70</td>\n",
              "      <td>61.80</td>\n",
              "      <td>57.00</td>\n",
              "      <td>2,401.00</td>\n",
              "      <td>5.69</td>\n",
              "      <td>5.71</td>\n",
              "      <td>3.52</td>\n",
              "    </tr>\n",
              "    <tr>\n",
              "      <th>75%</th>\n",
              "      <td>1.04</td>\n",
              "      <td>62.50</td>\n",
              "      <td>59.00</td>\n",
              "      <td>5,331.25</td>\n",
              "      <td>6.54</td>\n",
              "      <td>6.54</td>\n",
              "      <td>4.04</td>\n",
              "    </tr>\n",
              "    <tr>\n",
              "      <th>max</th>\n",
              "      <td>5.01</td>\n",
              "      <td>79.00</td>\n",
              "      <td>95.00</td>\n",
              "      <td>18,823.00</td>\n",
              "      <td>10.74</td>\n",
              "      <td>58.90</td>\n",
              "      <td>31.80</td>\n",
              "    </tr>\n",
              "  </tbody>\n",
              "</table>\n",
              "</div>\n",
              "      <button class=\"colab-df-convert\" onclick=\"convertToInteractive('df-4cca02c8-0642-44a1-9d77-deb4c0e34fa9')\"\n",
              "              title=\"Convert this dataframe to an interactive table.\"\n",
              "              style=\"display:none;\">\n",
              "        \n",
              "  <svg xmlns=\"http://www.w3.org/2000/svg\" height=\"24px\"viewBox=\"0 0 24 24\"\n",
              "       width=\"24px\">\n",
              "    <path d=\"M0 0h24v24H0V0z\" fill=\"none\"/>\n",
              "    <path d=\"M18.56 5.44l.94 2.06.94-2.06 2.06-.94-2.06-.94-.94-2.06-.94 2.06-2.06.94zm-11 1L8.5 8.5l.94-2.06 2.06-.94-2.06-.94L8.5 2.5l-.94 2.06-2.06.94zm10 10l.94 2.06.94-2.06 2.06-.94-2.06-.94-.94-2.06-.94 2.06-2.06.94z\"/><path d=\"M17.41 7.96l-1.37-1.37c-.4-.4-.92-.59-1.43-.59-.52 0-1.04.2-1.43.59L10.3 9.45l-7.72 7.72c-.78.78-.78 2.05 0 2.83L4 21.41c.39.39.9.59 1.41.59.51 0 1.02-.2 1.41-.59l7.78-7.78 2.81-2.81c.8-.78.8-2.07 0-2.86zM5.41 20L4 18.59l7.72-7.72 1.47 1.35L5.41 20z\"/>\n",
              "  </svg>\n",
              "      </button>\n",
              "      \n",
              "  <style>\n",
              "    .colab-df-container {\n",
              "      display:flex;\n",
              "      flex-wrap:wrap;\n",
              "      gap: 12px;\n",
              "    }\n",
              "\n",
              "    .colab-df-convert {\n",
              "      background-color: #E8F0FE;\n",
              "      border: none;\n",
              "      border-radius: 50%;\n",
              "      cursor: pointer;\n",
              "      display: none;\n",
              "      fill: #1967D2;\n",
              "      height: 32px;\n",
              "      padding: 0 0 0 0;\n",
              "      width: 32px;\n",
              "    }\n",
              "\n",
              "    .colab-df-convert:hover {\n",
              "      background-color: #E2EBFA;\n",
              "      box-shadow: 0px 1px 2px rgba(60, 64, 67, 0.3), 0px 1px 3px 1px rgba(60, 64, 67, 0.15);\n",
              "      fill: #174EA6;\n",
              "    }\n",
              "\n",
              "    [theme=dark] .colab-df-convert {\n",
              "      background-color: #3B4455;\n",
              "      fill: #D2E3FC;\n",
              "    }\n",
              "\n",
              "    [theme=dark] .colab-df-convert:hover {\n",
              "      background-color: #434B5C;\n",
              "      box-shadow: 0px 1px 3px 1px rgba(0, 0, 0, 0.15);\n",
              "      filter: drop-shadow(0px 1px 2px rgba(0, 0, 0, 0.3));\n",
              "      fill: #FFFFFF;\n",
              "    }\n",
              "  </style>\n",
              "\n",
              "      <script>\n",
              "        const buttonEl =\n",
              "          document.querySelector('#df-4cca02c8-0642-44a1-9d77-deb4c0e34fa9 button.colab-df-convert');\n",
              "        buttonEl.style.display =\n",
              "          google.colab.kernel.accessAllowed ? 'block' : 'none';\n",
              "\n",
              "        async function convertToInteractive(key) {\n",
              "          const element = document.querySelector('#df-4cca02c8-0642-44a1-9d77-deb4c0e34fa9');\n",
              "          const dataTable =\n",
              "            await google.colab.kernel.invokeFunction('convertToInteractive',\n",
              "                                                     [key], {});\n",
              "          if (!dataTable) return;\n",
              "\n",
              "          const docLinkHtml = 'Like what you see? Visit the ' +\n",
              "            '<a target=\"_blank\" href=https://colab.research.google.com/notebooks/data_table.ipynb>data table notebook</a>'\n",
              "            + ' to learn more about interactive tables.';\n",
              "          element.innerHTML = '';\n",
              "          dataTable['output_type'] = 'display_data';\n",
              "          await google.colab.output.renderOutput(dataTable, element);\n",
              "          const docLink = document.createElement('div');\n",
              "          docLink.innerHTML = docLinkHtml;\n",
              "          element.appendChild(docLink);\n",
              "        }\n",
              "      </script>\n",
              "    </div>\n",
              "  </div>\n",
              "  "
            ]
          },
          "metadata": {},
          "execution_count": 9
        }
      ]
    },
    {
      "cell_type": "code",
      "source": [
        "df_rick_diamonds.describe()"
      ],
      "metadata": {
        "colab": {
          "base_uri": "https://localhost:8080/",
          "height": 300
        },
        "id": "9ZsxdZLvcMhz",
        "outputId": "012616f2-b4eb-4f13-de07-073a5ab2ed39"
      },
      "execution_count": 10,
      "outputs": [
        {
          "output_type": "execute_result",
          "data": {
            "text/plain": [
              "         carat    depth    table        x        y        z\n",
              "count 5,000.00 5,000.00 5,000.00 5,000.00 5,000.00 5,000.00\n",
              "mean      0.80    61.72    57.52     5.74     5.74     3.54\n",
              "std       0.47     1.46     2.24     1.12     1.11     0.69\n",
              "min       0.20    44.00    50.00     0.00     0.00     0.00\n",
              "25%       0.40    61.00    56.00     4.72     4.72     2.91\n",
              "50%       0.71    61.80    57.00     5.71     5.72     3.53\n",
              "75%       1.04    62.50    59.00     6.53     6.52     4.03\n",
              "max       4.13    73.60    70.00    10.00     9.85     6.43"
            ],
            "text/html": [
              "\n",
              "  <div id=\"df-c06ff1f3-ed0c-4f2c-b4ea-44c4ff0fe7da\">\n",
              "    <div class=\"colab-df-container\">\n",
              "      <div>\n",
              "<style scoped>\n",
              "    .dataframe tbody tr th:only-of-type {\n",
              "        vertical-align: middle;\n",
              "    }\n",
              "\n",
              "    .dataframe tbody tr th {\n",
              "        vertical-align: top;\n",
              "    }\n",
              "\n",
              "    .dataframe thead th {\n",
              "        text-align: right;\n",
              "    }\n",
              "</style>\n",
              "<table border=\"1\" class=\"dataframe\">\n",
              "  <thead>\n",
              "    <tr style=\"text-align: right;\">\n",
              "      <th></th>\n",
              "      <th>carat</th>\n",
              "      <th>depth</th>\n",
              "      <th>table</th>\n",
              "      <th>x</th>\n",
              "      <th>y</th>\n",
              "      <th>z</th>\n",
              "    </tr>\n",
              "  </thead>\n",
              "  <tbody>\n",
              "    <tr>\n",
              "      <th>count</th>\n",
              "      <td>5,000.00</td>\n",
              "      <td>5,000.00</td>\n",
              "      <td>5,000.00</td>\n",
              "      <td>5,000.00</td>\n",
              "      <td>5,000.00</td>\n",
              "      <td>5,000.00</td>\n",
              "    </tr>\n",
              "    <tr>\n",
              "      <th>mean</th>\n",
              "      <td>0.80</td>\n",
              "      <td>61.72</td>\n",
              "      <td>57.52</td>\n",
              "      <td>5.74</td>\n",
              "      <td>5.74</td>\n",
              "      <td>3.54</td>\n",
              "    </tr>\n",
              "    <tr>\n",
              "      <th>std</th>\n",
              "      <td>0.47</td>\n",
              "      <td>1.46</td>\n",
              "      <td>2.24</td>\n",
              "      <td>1.12</td>\n",
              "      <td>1.11</td>\n",
              "      <td>0.69</td>\n",
              "    </tr>\n",
              "    <tr>\n",
              "      <th>min</th>\n",
              "      <td>0.20</td>\n",
              "      <td>44.00</td>\n",
              "      <td>50.00</td>\n",
              "      <td>0.00</td>\n",
              "      <td>0.00</td>\n",
              "      <td>0.00</td>\n",
              "    </tr>\n",
              "    <tr>\n",
              "      <th>25%</th>\n",
              "      <td>0.40</td>\n",
              "      <td>61.00</td>\n",
              "      <td>56.00</td>\n",
              "      <td>4.72</td>\n",
              "      <td>4.72</td>\n",
              "      <td>2.91</td>\n",
              "    </tr>\n",
              "    <tr>\n",
              "      <th>50%</th>\n",
              "      <td>0.71</td>\n",
              "      <td>61.80</td>\n",
              "      <td>57.00</td>\n",
              "      <td>5.71</td>\n",
              "      <td>5.72</td>\n",
              "      <td>3.53</td>\n",
              "    </tr>\n",
              "    <tr>\n",
              "      <th>75%</th>\n",
              "      <td>1.04</td>\n",
              "      <td>62.50</td>\n",
              "      <td>59.00</td>\n",
              "      <td>6.53</td>\n",
              "      <td>6.52</td>\n",
              "      <td>4.03</td>\n",
              "    </tr>\n",
              "    <tr>\n",
              "      <th>max</th>\n",
              "      <td>4.13</td>\n",
              "      <td>73.60</td>\n",
              "      <td>70.00</td>\n",
              "      <td>10.00</td>\n",
              "      <td>9.85</td>\n",
              "      <td>6.43</td>\n",
              "    </tr>\n",
              "  </tbody>\n",
              "</table>\n",
              "</div>\n",
              "      <button class=\"colab-df-convert\" onclick=\"convertToInteractive('df-c06ff1f3-ed0c-4f2c-b4ea-44c4ff0fe7da')\"\n",
              "              title=\"Convert this dataframe to an interactive table.\"\n",
              "              style=\"display:none;\">\n",
              "        \n",
              "  <svg xmlns=\"http://www.w3.org/2000/svg\" height=\"24px\"viewBox=\"0 0 24 24\"\n",
              "       width=\"24px\">\n",
              "    <path d=\"M0 0h24v24H0V0z\" fill=\"none\"/>\n",
              "    <path d=\"M18.56 5.44l.94 2.06.94-2.06 2.06-.94-2.06-.94-.94-2.06-.94 2.06-2.06.94zm-11 1L8.5 8.5l.94-2.06 2.06-.94-2.06-.94L8.5 2.5l-.94 2.06-2.06.94zm10 10l.94 2.06.94-2.06 2.06-.94-2.06-.94-.94-2.06-.94 2.06-2.06.94z\"/><path d=\"M17.41 7.96l-1.37-1.37c-.4-.4-.92-.59-1.43-.59-.52 0-1.04.2-1.43.59L10.3 9.45l-7.72 7.72c-.78.78-.78 2.05 0 2.83L4 21.41c.39.39.9.59 1.41.59.51 0 1.02-.2 1.41-.59l7.78-7.78 2.81-2.81c.8-.78.8-2.07 0-2.86zM5.41 20L4 18.59l7.72-7.72 1.47 1.35L5.41 20z\"/>\n",
              "  </svg>\n",
              "      </button>\n",
              "      \n",
              "  <style>\n",
              "    .colab-df-container {\n",
              "      display:flex;\n",
              "      flex-wrap:wrap;\n",
              "      gap: 12px;\n",
              "    }\n",
              "\n",
              "    .colab-df-convert {\n",
              "      background-color: #E8F0FE;\n",
              "      border: none;\n",
              "      border-radius: 50%;\n",
              "      cursor: pointer;\n",
              "      display: none;\n",
              "      fill: #1967D2;\n",
              "      height: 32px;\n",
              "      padding: 0 0 0 0;\n",
              "      width: 32px;\n",
              "    }\n",
              "\n",
              "    .colab-df-convert:hover {\n",
              "      background-color: #E2EBFA;\n",
              "      box-shadow: 0px 1px 2px rgba(60, 64, 67, 0.3), 0px 1px 3px 1px rgba(60, 64, 67, 0.15);\n",
              "      fill: #174EA6;\n",
              "    }\n",
              "\n",
              "    [theme=dark] .colab-df-convert {\n",
              "      background-color: #3B4455;\n",
              "      fill: #D2E3FC;\n",
              "    }\n",
              "\n",
              "    [theme=dark] .colab-df-convert:hover {\n",
              "      background-color: #434B5C;\n",
              "      box-shadow: 0px 1px 3px 1px rgba(0, 0, 0, 0.15);\n",
              "      filter: drop-shadow(0px 1px 2px rgba(0, 0, 0, 0.3));\n",
              "      fill: #FFFFFF;\n",
              "    }\n",
              "  </style>\n",
              "\n",
              "      <script>\n",
              "        const buttonEl =\n",
              "          document.querySelector('#df-c06ff1f3-ed0c-4f2c-b4ea-44c4ff0fe7da button.colab-df-convert');\n",
              "        buttonEl.style.display =\n",
              "          google.colab.kernel.accessAllowed ? 'block' : 'none';\n",
              "\n",
              "        async function convertToInteractive(key) {\n",
              "          const element = document.querySelector('#df-c06ff1f3-ed0c-4f2c-b4ea-44c4ff0fe7da');\n",
              "          const dataTable =\n",
              "            await google.colab.kernel.invokeFunction('convertToInteractive',\n",
              "                                                     [key], {});\n",
              "          if (!dataTable) return;\n",
              "\n",
              "          const docLinkHtml = 'Like what you see? Visit the ' +\n",
              "            '<a target=\"_blank\" href=https://colab.research.google.com/notebooks/data_table.ipynb>data table notebook</a>'\n",
              "            + ' to learn more about interactive tables.';\n",
              "          element.innerHTML = '';\n",
              "          dataTable['output_type'] = 'display_data';\n",
              "          await google.colab.output.renderOutput(dataTable, element);\n",
              "          const docLink = document.createElement('div');\n",
              "          docLink.innerHTML = docLinkHtml;\n",
              "          element.appendChild(docLink);\n",
              "        }\n",
              "      </script>\n",
              "    </div>\n",
              "  </div>\n",
              "  "
            ]
          },
          "metadata": {},
          "execution_count": 10
        }
      ]
    },
    {
      "cell_type": "code",
      "source": [
        "sns.pairplot(df_diamonds,kind='reg',y_vars='price', x_vars=['carat', 'depth', 'table', 'price', 'x', 'y', 'z'])"
      ],
      "metadata": {
        "colab": {
          "base_uri": "https://localhost:8080/",
          "height": 214
        },
        "id": "DFd679rER9WO",
        "outputId": "42392b4c-371a-46fc-bc4a-bc9243bd25e7"
      },
      "execution_count": 11,
      "outputs": [
        {
          "output_type": "execute_result",
          "data": {
            "text/plain": [
              "<seaborn.axisgrid.PairGrid at 0x7f3d92747210>"
            ]
          },
          "metadata": {},
          "execution_count": 11
        },
        {
          "output_type": "display_data",
          "data": {
            "text/plain": [
              "<Figure size 1260x180 with 8 Axes>"
            ],
            "image/png": "[encoded data removed]"
          },
          "metadata": {
            "needs_background": "light"
          }
        }
      ]
    },
    {
      "cell_type": "code",
      "source": [
        "sns.pairplot(data = df_diamonds, y_vars='price', x_vars=['carat', 'depth', 'table', 'price'])"
      ],
      "metadata": {
        "colab": {
          "base_uri": "https://localhost:8080/",
          "height": 214
        },
        "id": "MuJAHskvNTGB",
        "outputId": "52309f30-ddf9-43d8-9b3d-b12fffc5a914"
      },
      "execution_count": 12,
      "outputs": [
        {
          "output_type": "execute_result",
          "data": {
            "text/plain": [
              "<seaborn.axisgrid.PairGrid at 0x7f3d92747f50>"
            ]
          },
          "metadata": {},
          "execution_count": 12
        },
        {
          "output_type": "display_data",
          "data": {
            "text/plain": [
              "<Figure size 720x180 with 5 Axes>"
            ],
            "image/png": "[encoded data removed]"
          },
          "metadata": {
            "needs_background": "light"
          }
        }
      ]
    },
    {
      "cell_type": "markdown",
      "source": [
        "## Data Cleaning"
      ],
      "metadata": {
        "id": "iykBGEBp0s6M"
      }
    },
    {
      "cell_type": "markdown",
      "source": [
        "**Create a new column to transform 'cut' into values ​​from 0 to 4**\n",
        "\n",
        "Fair=0, Good=1, Very Good=2, Premium=3, Ideal=4"
      ],
      "metadata": {
        "id": "_tkgWrLnvzAx"
      }
    },
    {
      "cell_type": "code",
      "source": [
        "df_diamonds['cut'] = df_diamonds['cut'].map({'Fair': 0, 'Good': 1, 'Very Good': 2, 'Premium': 3, 'Ideal': 4})"
      ],
      "metadata": {
        "id": "iMrT3sHQgc-3"
      },
      "execution_count": 13,
      "outputs": []
    },
    {
      "cell_type": "code",
      "source": [
        "df_rick_diamonds['cut'] = df_rick_diamonds['cut'].map({'Fair': 0, 'Good': 1, 'Very Good': 2, 'Premium': 3, 'Ideal': 4})"
      ],
      "metadata": {
        "id": "j4tCqLrugdCu"
      },
      "execution_count": 14,
      "outputs": []
    },
    {
      "cell_type": "markdown",
      "source": [
        " **Create a new column to transform 'color' into values ​​from 0 to 6**\n",
        "  \n",
        "  J=0, I=1, H=2, G=3, F=4, E=5, D=6"
      ],
      "metadata": {
        "id": "QMsK3WEuwVVb"
      }
    },
    {
      "cell_type": "code",
      "source": [
        "df_diamonds['color'] = df_diamonds['color'].map({'J': 0, 'I': 1, 'H': 2, 'G': 3, 'F': 4, 'E': 5, 'D': 6})"
      ],
      "metadata": {
        "id": "wOiKR6cggl6c"
      },
      "execution_count": 15,
      "outputs": []
    },
    {
      "cell_type": "code",
      "source": [
        "df_rick_diamonds['color'] = df_rick_diamonds['color'].map({'J': 0, 'I': 1, 'H': 2, 'G': 3, 'F': 4, 'E': 5, 'D': 6})"
      ],
      "metadata": {
        "id": "vyxjJSrAgmCF"
      },
      "execution_count": 16,
      "outputs": []
    },
    {
      "cell_type": "markdown",
      "source": [
        "**Create a new column to transform 'clarity' into values ​​from 0 to 7**\n",
        "\n",
        "I1=0, SI2=1, SI1=2, VS2=3, VS1=4, VVS2=5, VVS1=6, IF=7"
      ],
      "metadata": {
        "id": "G-O0RcAWwfl4"
      }
    },
    {
      "cell_type": "code",
      "source": [
        "df_diamonds['clarity'] = df_diamonds['clarity'].map({'I1':0, 'SI2':1, 'SI1':2, 'VS2':3, 'VS1':4, 'VVS2':5, 'VVS1':6, 'IF':7})"
      ],
      "metadata": {
        "id": "TY7-h0vug0Gt"
      },
      "execution_count": 17,
      "outputs": []
    },
    {
      "cell_type": "code",
      "source": [
        "df_rick_diamonds['clarity'] = df_rick_diamonds['clarity'].map({'I1':0, 'SI2':1, 'SI1':2, 'VS2':3, 'VS1':4, 'VVS2':5, 'VVS1':6, 'IF':7})"
      ],
      "metadata": {
        "id": "S887Joukg0Kc"
      },
      "execution_count": 18,
      "outputs": []
    },
    {
      "cell_type": "code",
      "source": [
        "df_diamonds.info()"
      ],
      "metadata": {
        "colab": {
          "base_uri": "https://localhost:8080/"
        },
        "id": "lcHfLJBtGnBJ",
        "outputId": "257d7d9c-311e-4f77-b864-b223d650ec46"
      },
      "execution_count": 19,
      "outputs": [
        {
          "output_type": "stream",
          "name": "stdout",
          "text": [
            "<class 'pandas.core.frame.DataFrame'>\n",
            "RangeIndex: 48940 entries, 0 to 48939\n",
            "Data columns (total 10 columns):\n",
            " #   Column   Non-Null Count  Dtype  \n",
            "---  ------   --------------  -----  \n",
            " 0   carat    48940 non-null  float64\n",
            " 1   cut      48940 non-null  int64  \n",
            " 2   color    48940 non-null  int64  \n",
            " 3   clarity  48940 non-null  int64  \n",
            " 4   depth    48940 non-null  float64\n",
            " 5   table    48940 non-null  float64\n",
            " 6   price    48940 non-null  int64  \n",
            " 7   x        48940 non-null  float64\n",
            " 8   y        48940 non-null  float64\n",
            " 9   z        48940 non-null  float64\n",
            "dtypes: float64(6), int64(4)\n",
            "memory usage: 3.7 MB\n"
          ]
        }
      ]
    },
    {
      "cell_type": "code",
      "source": [
        "df_rick_diamonds.info()"
      ],
      "metadata": {
        "colab": {
          "base_uri": "https://localhost:8080/"
        },
        "id": "wCTOiwe8ckUw",
        "outputId": "3de0c55a-465d-4048-9d78-acc5f67b8a4e"
      },
      "execution_count": 20,
      "outputs": [
        {
          "output_type": "stream",
          "name": "stdout",
          "text": [
            "<class 'pandas.core.frame.DataFrame'>\n",
            "RangeIndex: 5000 entries, 0 to 4999\n",
            "Data columns (total 9 columns):\n",
            " #   Column   Non-Null Count  Dtype  \n",
            "---  ------   --------------  -----  \n",
            " 0   carat    5000 non-null   float64\n",
            " 1   cut      5000 non-null   int64  \n",
            " 2   color    5000 non-null   int64  \n",
            " 3   clarity  5000 non-null   int64  \n",
            " 4   depth    5000 non-null   float64\n",
            " 5   table    5000 non-null   float64\n",
            " 6   x        5000 non-null   float64\n",
            " 7   y        5000 non-null   float64\n",
            " 8   z        5000 non-null   float64\n",
            "dtypes: float64(6), int64(3)\n",
            "memory usage: 351.7 KB\n"
          ]
        }
      ]
    },
    {
      "cell_type": "markdown",
      "source": [
        "##Random Forests Model"
      ],
      "metadata": {
        "id": "fLJt5RFGU8GD"
      }
    },
    {
      "cell_type": "code",
      "source": [
        "df_diamonds.corr()['price']"
      ],
      "metadata": {
        "colab": {
          "base_uri": "https://localhost:8080/"
        },
        "id": "4IUsV6rS4MNo",
        "outputId": "24166076-c718-4470-d014-1af2515e5178"
      },
      "execution_count": 21,
      "outputs": [
        {
          "output_type": "execute_result",
          "data": {
            "text/plain": [
              "carat      0.92\n",
              "cut       -0.06\n",
              "color     -0.17\n",
              "clarity   -0.15\n",
              "depth     -0.01\n",
              "table      0.13\n",
              "price      1.00\n",
              "x          0.89\n",
              "y          0.86\n",
              "z          0.86\n",
              "Name: price, dtype: float64"
            ]
          },
          "metadata": {},
          "execution_count": 21
        }
      ]
    },
    {
      "cell_type": "code",
      "source": [
        "X = df_diamonds[['carat', 'cut', 'color', 'clarity', 'x', 'y', 'z', 'table']]\n",
        "y = df_diamonds['price']"
      ],
      "metadata": {
        "id": "cWQiSOjXlvBQ"
      },
      "execution_count": 22,
      "outputs": []
    },
    {
      "cell_type": "code",
      "source": [
        "modelo = RandomForestRegressor(random_state=9)"
      ],
      "metadata": {
        "id": "u3lW15OYlvGN"
      },
      "execution_count": 23,
      "outputs": []
    },
    {
      "cell_type": "code",
      "source": [
        "modelo.fit(X,y)"
      ],
      "metadata": {
        "colab": {
          "base_uri": "https://localhost:8080/"
        },
        "id": "jI3okbIDl2Rz",
        "outputId": "404f9b4e-e93c-4f0b-89e6-daffe256cbf0"
      },
      "execution_count": 24,
      "outputs": [
        {
          "output_type": "execute_result",
          "data": {
            "text/plain": [
              "RandomForestRegressor(random_state=9)"
            ]
          },
          "metadata": {},
          "execution_count": 24
        }
      ]
    },
    {
      "cell_type": "code",
      "source": [
        "predict_rf = modelo.predict(df_rick_diamonds[['carat', 'cut', 'color', 'clarity', 'x', 'y', 'z', 'table']])"
      ],
      "metadata": {
        "id": "13lzuZMMl2VP"
      },
      "execution_count": 25,
      "outputs": []
    },
    {
      "cell_type": "code",
      "source": [
        "df_rick_diamonds['price_predicted'] = predict_rf\n",
        "df_rick_diamonds"
      ],
      "metadata": {
        "colab": {
          "base_uri": "https://localhost:8080/",
          "height": 424
        },
        "id": "U4suqrjpl2Ym",
        "outputId": "abd71e16-7be8-4d94-808b-9a5740e10209"
      },
      "execution_count": 26,
      "outputs": [
        {
          "output_type": "execute_result",
          "data": {
            "text/plain": [
              "      carat  cut  color  clarity  depth  table    x    y    z  price_predicted\n",
              "0      0.91    2      2        1  63.40  57.00 6.10 6.18 3.89         3,396.30\n",
              "1      0.38    1      4        3  60.30  61.00 4.68 4.71 2.83           768.69\n",
              "2      0.52    4      2        3  61.80  56.00 5.19 5.16 3.20         1,449.23\n",
              "3      1.10    4      3        4  61.30  56.00 6.65 6.69 4.09         7,911.21\n",
              "4      2.28    4      3        1  61.60  57.00 8.44 8.37 5.18        14,452.17\n",
              "...     ...  ...    ...      ...    ...    ...  ...  ...  ...              ...\n",
              "4995   0.30    2      6        1  62.20  59.00 4.25 4.30 2.66           445.03\n",
              "4996   0.51    4      4        5  61.90  56.00 5.09 5.14 3.16         2,093.12\n",
              "4997   1.01    2      4        2  60.60  60.00 6.37 6.43 3.88         5,212.96\n",
              "4998   0.31    4      4        6  62.10  56.00 4.35 4.38 2.71           883.99\n",
              "4999   0.33    4      5        3  61.80  55.00 4.45 4.48 2.76           786.78\n",
              "\n",
              "[5000 rows x 10 columns]"
            ],
            "text/html": [
              "\n",
              "  <div id=\"df-3566214b-4e20-4f41-8cfb-43125bd5fa37\">\n",
              "    <div class=\"colab-df-container\">\n",
              "      <div>\n",
              "<style scoped>\n",
              "    .dataframe tbody tr th:only-of-type {\n",
              "        vertical-align: middle;\n",
              "    }\n",
              "\n",
              "    .dataframe tbody tr th {\n",
              "        vertical-align: top;\n",
              "    }\n",
              "\n",
              "    .dataframe thead th {\n",
              "        text-align: right;\n",
              "    }\n",
              "</style>\n",
              "<table border=\"1\" class=\"dataframe\">\n",
              "  <thead>\n",
              "    <tr style=\"text-align: right;\">\n",
              "      <th></th>\n",
              "      <th>carat</th>\n",
              "      <th>cut</th>\n",
              "      <th>color</th>\n",
              "      <th>clarity</th>\n",
              "      <th>depth</th>\n",
              "      <th>table</th>\n",
              "      <th>x</th>\n",
              "      <th>y</th>\n",
              "      <th>z</th>\n",
              "      <th>price_predicted</th>\n",
              "    </tr>\n",
              "  </thead>\n",
              "  <tbody>\n",
              "    <tr>\n",
              "      <th>0</th>\n",
              "      <td>0.91</td>\n",
              "      <td>2</td>\n",
              "      <td>2</td>\n",
              "      <td>1</td>\n",
              "      <td>63.40</td>\n",
              "      <td>57.00</td>\n",
              "      <td>6.10</td>\n",
              "      <td>6.18</td>\n",
              "      <td>3.89</td>\n",
              "      <td>3,396.30</td>\n",
              "    </tr>\n",
              "    <tr>\n",
              "      <th>1</th>\n",
              "      <td>0.38</td>\n",
              "      <td>1</td>\n",
              "      <td>4</td>\n",
              "      <td>3</td>\n",
              "      <td>60.30</td>\n",
              "      <td>61.00</td>\n",
              "      <td>4.68</td>\n",
              "      <td>4.71</td>\n",
              "      <td>2.83</td>\n",
              "      <td>768.69</td>\n",
              "    </tr>\n",
              "    <tr>\n",
              "      <th>2</th>\n",
              "      <td>0.52</td>\n",
              "      <td>4</td>\n",
              "      <td>2</td>\n",
              "      <td>3</td>\n",
              "      <td>61.80</td>\n",
              "      <td>56.00</td>\n",
              "      <td>5.19</td>\n",
              "      <td>5.16</td>\n",
              "      <td>3.20</td>\n",
              "      <td>1,449.23</td>\n",
              "    </tr>\n",
              "    <tr>\n",
              "      <th>3</th>\n",
              "      <td>1.10</td>\n",
              "      <td>4</td>\n",
              "      <td>3</td>\n",
              "      <td>4</td>\n",
              "      <td>61.30</td>\n",
              "      <td>56.00</td>\n",
              "      <td>6.65</td>\n",
              "      <td>6.69</td>\n",
              "      <td>4.09</td>\n",
              "      <td>7,911.21</td>\n",
              "    </tr>\n",
              "    <tr>\n",
              "      <th>4</th>\n",
              "      <td>2.28</td>\n",
              "      <td>4</td>\n",
              "      <td>3</td>\n",
              "      <td>1</td>\n",
              "      <td>61.60</td>\n",
              "      <td>57.00</td>\n",
              "      <td>8.44</td>\n",
              "      <td>8.37</td>\n",
              "      <td>5.18</td>\n",
              "      <td>14,452.17</td>\n",
              "    </tr>\n",
              "    <tr>\n",
              "      <th>...</th>\n",
              "      <td>...</td>\n",
              "      <td>...</td>\n",
              "      <td>...</td>\n",
              "      <td>...</td>\n",
              "      <td>...</td>\n",
              "      <td>...</td>\n",
              "      <td>...</td>\n",
              "      <td>...</td>\n",
              "      <td>...</td>\n",
              "      <td>...</td>\n",
              "    </tr>\n",
              "    <tr>\n",
              "      <th>4995</th>\n",
              "      <td>0.30</td>\n",
              "      <td>2</td>\n",
              "      <td>6</td>\n",
              "      <td>1</td>\n",
              "      <td>62.20</td>\n",
              "      <td>59.00</td>\n",
              "      <td>4.25</td>\n",
              "      <td>4.30</td>\n",
              "      <td>2.66</td>\n",
              "      <td>445.03</td>\n",
              "    </tr>\n",
              "    <tr>\n",
              "      <th>4996</th>\n",
              "      <td>0.51</td>\n",
              "      <td>4</td>\n",
              "      <td>4</td>\n",
              "      <td>5</td>\n",
              "      <td>61.90</td>\n",
              "      <td>56.00</td>\n",
              "      <td>5.09</td>\n",
              "      <td>5.14</td>\n",
              "      <td>3.16</td>\n",
              "      <td>2,093.12</td>\n",
              "    </tr>\n",
              "    <tr>\n",
              "      <th>4997</th>\n",
              "      <td>1.01</td>\n",
              "      <td>2</td>\n",
              "      <td>4</td>\n",
              "      <td>2</td>\n",
              "      <td>60.60</td>\n",
              "      <td>60.00</td>\n",
              "      <td>6.37</td>\n",
              "      <td>6.43</td>\n",
              "      <td>3.88</td>\n",
              "      <td>5,212.96</td>\n",
              "    </tr>\n",
              "    <tr>\n",
              "      <th>4998</th>\n",
              "      <td>0.31</td>\n",
              "      <td>4</td>\n",
              "      <td>4</td>\n",
              "      <td>6</td>\n",
              "      <td>62.10</td>\n",
              "      <td>56.00</td>\n",
              "      <td>4.35</td>\n",
              "      <td>4.38</td>\n",
              "      <td>2.71</td>\n",
              "      <td>883.99</td>\n",
              "    </tr>\n",
              "    <tr>\n",
              "      <th>4999</th>\n",
              "      <td>0.33</td>\n",
              "      <td>4</td>\n",
              "      <td>5</td>\n",
              "      <td>3</td>\n",
              "      <td>61.80</td>\n",
              "      <td>55.00</td>\n",
              "      <td>4.45</td>\n",
              "      <td>4.48</td>\n",
              "      <td>2.76</td>\n",
              "      <td>786.78</td>\n",
              "    </tr>\n",
              "  </tbody>\n",
              "</table>\n",
              "<p>5000 rows × 10 columns</p>\n",
              "</div>\n",
              "      <button class=\"colab-df-convert\" onclick=\"convertToInteractive('df-3566214b-4e20-4f41-8cfb-43125bd5fa37')\"\n",
              "              title=\"Convert this dataframe to an interactive table.\"\n",
              "              style=\"display:none;\">\n",
              "        \n",
              "  <svg xmlns=\"http://www.w3.org/2000/svg\" height=\"24px\"viewBox=\"0 0 24 24\"\n",
              "       width=\"24px\">\n",
              "    <path d=\"M0 0h24v24H0V0z\" fill=\"none\"/>\n",
              "    <path d=\"M18.56 5.44l.94 2.06.94-2.06 2.06-.94-2.06-.94-.94-2.06-.94 2.06-2.06.94zm-11 1L8.5 8.5l.94-2.06 2.06-.94-2.06-.94L8.5 2.5l-.94 2.06-2.06.94zm10 10l.94 2.06.94-2.06 2.06-.94-2.06-.94-.94-2.06-.94 2.06-2.06.94z\"/><path d=\"M17.41 7.96l-1.37-1.37c-.4-.4-.92-.59-1.43-.59-.52 0-1.04.2-1.43.59L10.3 9.45l-7.72 7.72c-.78.78-.78 2.05 0 2.83L4 21.41c.39.39.9.59 1.41.59.51 0 1.02-.2 1.41-.59l7.78-7.78 2.81-2.81c.8-.78.8-2.07 0-2.86zM5.41 20L4 18.59l7.72-7.72 1.47 1.35L5.41 20z\"/>\n",
              "  </svg>\n",
              "      </button>\n",
              "      \n",
              "  <style>\n",
              "    .colab-df-container {\n",
              "      display:flex;\n",
              "      flex-wrap:wrap;\n",
              "      gap: 12px;\n",
              "    }\n",
              "\n",
              "    .colab-df-convert {\n",
              "      background-color: #E8F0FE;\n",
              "      border: none;\n",
              "      border-radius: 50%;\n",
              "      cursor: pointer;\n",
              "      display: none;\n",
              "      fill: #1967D2;\n",
              "      height: 32px;\n",
              "      padding: 0 0 0 0;\n",
              "      width: 32px;\n",
              "    }\n",
              "\n",
              "    .colab-df-convert:hover {\n",
              "      background-color: #E2EBFA;\n",
              "      box-shadow: 0px 1px 2px rgba(60, 64, 67, 0.3), 0px 1px 3px 1px rgba(60, 64, 67, 0.15);\n",
              "      fill: #174EA6;\n",
              "    }\n",
              "\n",
              "    [theme=dark] .colab-df-convert {\n",
              "      background-color: #3B4455;\n",
              "      fill: #D2E3FC;\n",
              "    }\n",
              "\n",
              "    [theme=dark] .colab-df-convert:hover {\n",
              "      background-color: #434B5C;\n",
              "      box-shadow: 0px 1px 3px 1px rgba(0, 0, 0, 0.15);\n",
              "      filter: drop-shadow(0px 1px 2px rgba(0, 0, 0, 0.3));\n",
              "      fill: #FFFFFF;\n",
              "    }\n",
              "  </style>\n",
              "\n",
              "      <script>\n",
              "        const buttonEl =\n",
              "          document.querySelector('#df-3566214b-4e20-4f41-8cfb-43125bd5fa37 button.colab-df-convert');\n",
              "        buttonEl.style.display =\n",
              "          google.colab.kernel.accessAllowed ? 'block' : 'none';\n",
              "\n",
              "        async function convertToInteractive(key) {\n",
              "          const element = document.querySelector('#df-3566214b-4e20-4f41-8cfb-43125bd5fa37');\n",
              "          const dataTable =\n",
              "            await google.colab.kernel.invokeFunction('convertToInteractive',\n",
              "                                                     [key], {});\n",
              "          if (!dataTable) return;\n",
              "\n",
              "          const docLinkHtml = 'Like what you see? Visit the ' +\n",
              "            '<a target=\"_blank\" href=https://colab.research.google.com/notebooks/data_table.ipynb>data table notebook</a>'\n",
              "            + ' to learn more about interactive tables.';\n",
              "          element.innerHTML = '';\n",
              "          dataTable['output_type'] = 'display_data';\n",
              "          await google.colab.output.renderOutput(dataTable, element);\n",
              "          const docLink = document.createElement('div');\n",
              "          docLink.innerHTML = docLinkHtml;\n",
              "          element.appendChild(docLink);\n",
              "        }\n",
              "      </script>\n",
              "    </div>\n",
              "  </div>\n",
              "  "
            ]
          },
          "metadata": {},
          "execution_count": 26
        }
      ]
    },
    {
      "cell_type": "markdown",
      "source": [
        "##Save results"
      ],
      "metadata": {
        "id": "w0J_MVSsmh9b"
      }
    },
    {
      "cell_type": "code",
      "source": [
        "df_rick_diamonds.to_csv('diamonds_results_rf.csv')"
      ],
      "metadata": {
        "id": "dtnxFrA7mD-d"
      },
      "execution_count": 27,
      "outputs": []
    },
    {
      "cell_type": "code",
      "source": [
        "from google.colab import files\n",
        "files.download('diamonds_results_rf.csv')"
      ],
      "metadata": {
        "colab": {
          "base_uri": "https://localhost:8080/",
          "height": 17
        },
        "id": "JH3a2Myhmjiz",
        "outputId": "d74c18ec-7153-422c-b3a1-c08e183776bb"
      },
      "execution_count": 28,
      "outputs": [
        {
          "output_type": "display_data",
          "data": {
            "text/plain": [
              "<IPython.core.display.Javascript object>"
            ],
            "application/javascript": [
              "\n",
              "    async function download(id, filename, size) {\n",
              "      if (!google.colab.kernel.accessAllowed) {\n",
              "        return;\n",
              "      }\n",
              "      const div = document.createElement('div');\n",
              "      const label = document.createElement('label');\n",
              "      label.textContent = `Downloading \"${filename}\": `;\n",
              "      div.appendChild(label);\n",
              "      const progress = document.createElement('progress');\n",
              "      progress.max = size;\n",
              "      div.appendChild(progress);\n",
              "      document.body.appendChild(div);\n",
              "\n",
              "      const buffers = [];\n",
              "      let downloaded = 0;\n",
              "\n",
              "      const channel = await google.colab.kernel.comms.open(id);\n",
              "      // Send a message to notify the kernel that we're ready.\n",
              "      channel.send({})\n",
              "\n",
              "      for await (const message of channel.messages) {\n",
              "        // Send a message to notify the kernel that we're ready.\n",
              "        channel.send({})\n",
              "        if (message.buffers) {\n",
              "          for (const buffer of message.buffers) {\n",
              "            buffers.push(buffer);\n",
              "            downloaded += buffer.byteLength;\n",
              "            progress.value = downloaded;\n",
              "          }\n",
              "        }\n",
              "      }\n",
              "      const blob = new Blob(buffers, {type: 'application/binary'});\n",
              "      const a = document.createElement('a');\n",
              "      a.href = window.URL.createObjectURL(blob);\n",
              "      a.download = filename;\n",
              "      div.appendChild(a);\n",
              "      a.click();\n",
              "      div.remove();\n",
              "    }\n",
              "  "
            ]
          },
          "metadata": {}
        },
        {
          "output_type": "display_data",
          "data": {
            "text/plain": [
              "<IPython.core.display.Javascript object>"
            ],
            "application/javascript": [
              "download(\"download_7da3b372-7fc1-44bb-84a6-df66ab933817\", \"diamonds_results_rf.csv\", 241391)"
            ]
          },
          "metadata": {}
        }
      ]
    },
    {
      "cell_type": "markdown",
      "source": [
        "## **Conclusion**\n",
        "\n",
        "Best model so far with Linear Regression: Prediction with multiple linear regression model using variables 'carat', 'x', 'y', 'z', 'cut', 'color', 'clarity', RMSE = 1115.2815460356976\n",
        "\n",
        "Prediction with Random Forests regression using variables 'carat', 'x', 'y', 'z', 'cut', 'color', 'clarity', 'table', RMSE = 543.5631396740744"
      ],
      "metadata": {
        "id": "h52bOrlwnUaw"
      }
    },
    {
      "cell_type": "code",
      "source": [],
      "metadata": {
        "id": "ZDqXI9tQ39sQ"
      },
      "execution_count": null,
      "outputs": []
    },
    {
      "cell_type": "code",
      "source": [],
      "metadata": {
        "id": "64U9TOnw7A0K"
      },
      "execution_count": null,
      "outputs": []
    },
    {
      "cell_type": "markdown",
      "source": [
        "# Trials with Linear Regression and Version documentation\n",
        "\n",
        "---\n",
        "\n"
      ],
      "metadata": {
        "id": "mcfXxFJ56w10"
      }
    },
    {
      "cell_type": "markdown",
      "source": [
        "##Linear Regression Model"
      ],
      "metadata": {
        "id": "RZo4wGgOJicK"
      }
    },
    {
      "cell_type": "code",
      "source": [
        "mask_carat = df_diamonds['carat']>=0.63\n",
        "df_diamonds = df_diamonds.loc[mask_carat]"
      ],
      "metadata": {
        "id": "pJzHbOEdh1AY"
      },
      "execution_count": 20,
      "outputs": []
    },
    {
      "cell_type": "code",
      "source": [
        "df_diamonds.corr()['price']"
      ],
      "metadata": {
        "colab": {
          "base_uri": "https://localhost:8080/"
        },
        "id": "fhL4rEaiPZ3g",
        "outputId": "a7d7cb3a-9aba-47b9-e077-caa58a7b184a"
      },
      "execution_count": 21,
      "outputs": [
        {
          "output_type": "execute_result",
          "data": {
            "text/plain": [
              "carat      0.87\n",
              "cut        0.11\n",
              "color     -0.08\n",
              "clarity    0.16\n",
              "depth     -0.06\n",
              "table     -0.01\n",
              "price      1.00\n",
              "x          0.86\n",
              "y          0.79\n",
              "z          0.83\n",
              "Name: price, dtype: float64"
            ]
          },
          "metadata": {},
          "execution_count": 21
        }
      ]
    },
    {
      "cell_type": "code",
      "source": [
        "X = df_diamonds[['carat', 'cut', 'color', 'clarity', 'x', 'y', 'z']]\n",
        "y = df_diamonds['price']"
      ],
      "metadata": {
        "id": "4-HcURNBeRZE"
      },
      "execution_count": 22,
      "outputs": []
    },
    {
      "cell_type": "code",
      "source": [
        "modelo_diamonds = LinearRegression()"
      ],
      "metadata": {
        "id": "-0n3erywPsuT"
      },
      "execution_count": 23,
      "outputs": []
    },
    {
      "cell_type": "code",
      "source": [
        "modelo_diamonds.fit(X,y)"
      ],
      "metadata": {
        "colab": {
          "base_uri": "https://localhost:8080/"
        },
        "id": "YQDzO7kDNTLi",
        "outputId": "a25c0397-fd28-4bf7-a5a8-7fabf888a241"
      },
      "execution_count": 24,
      "outputs": [
        {
          "output_type": "execute_result",
          "data": {
            "text/plain": [
              "LinearRegression()"
            ]
          },
          "metadata": {},
          "execution_count": 24
        }
      ]
    },
    {
      "cell_type": "code",
      "source": [
        "modelo_diamonds.coef_\n",
        "pd.DataFrame({'coefs':modelo_diamonds.coef_,'Columns':X.columns})"
      ],
      "metadata": {
        "colab": {
          "base_uri": "https://localhost:8080/",
          "height": 269
        },
        "id": "8qL7X3PAo_Wx",
        "outputId": "9a1d89e4-b272-4f25-a29c-43580ff1023f"
      },
      "execution_count": 25,
      "outputs": [
        {
          "output_type": "execute_result",
          "data": {
            "text/plain": [
              "     coefs  Columns\n",
              "0 8,363.97    carat\n",
              "1   195.22      cut\n",
              "2   506.12    color\n",
              "3   867.09  clarity\n",
              "4   663.35        x\n",
              "5   111.65        y\n",
              "6   116.63        z"
            ],
            "text/html": [
              "\n",
              "  <div id=\"df-79d4f94c-c112-4e34-bed8-2b2f868293e6\">\n",
              "    <div class=\"colab-df-container\">\n",
              "      <div>\n",
              "<style scoped>\n",
              "    .dataframe tbody tr th:only-of-type {\n",
              "        vertical-align: middle;\n",
              "    }\n",
              "\n",
              "    .dataframe tbody tr th {\n",
              "        vertical-align: top;\n",
              "    }\n",
              "\n",
              "    .dataframe thead th {\n",
              "        text-align: right;\n",
              "    }\n",
              "</style>\n",
              "<table border=\"1\" class=\"dataframe\">\n",
              "  <thead>\n",
              "    <tr style=\"text-align: right;\">\n",
              "      <th></th>\n",
              "      <th>coefs</th>\n",
              "      <th>Columns</th>\n",
              "    </tr>\n",
              "  </thead>\n",
              "  <tbody>\n",
              "    <tr>\n",
              "      <th>0</th>\n",
              "      <td>8,363.97</td>\n",
              "      <td>carat</td>\n",
              "    </tr>\n",
              "    <tr>\n",
              "      <th>1</th>\n",
              "      <td>195.22</td>\n",
              "      <td>cut</td>\n",
              "    </tr>\n",
              "    <tr>\n",
              "      <th>2</th>\n",
              "      <td>506.12</td>\n",
              "      <td>color</td>\n",
              "    </tr>\n",
              "    <tr>\n",
              "      <th>3</th>\n",
              "      <td>867.09</td>\n",
              "      <td>clarity</td>\n",
              "    </tr>\n",
              "    <tr>\n",
              "      <th>4</th>\n",
              "      <td>663.35</td>\n",
              "      <td>x</td>\n",
              "    </tr>\n",
              "    <tr>\n",
              "      <th>5</th>\n",
              "      <td>111.65</td>\n",
              "      <td>y</td>\n",
              "    </tr>\n",
              "    <tr>\n",
              "      <th>6</th>\n",
              "      <td>116.63</td>\n",
              "      <td>z</td>\n",
              "    </tr>\n",
              "  </tbody>\n",
              "</table>\n",
              "</div>\n",
              "      <button class=\"colab-df-convert\" onclick=\"convertToInteractive('df-79d4f94c-c112-4e34-bed8-2b2f868293e6')\"\n",
              "              title=\"Convert this dataframe to an interactive table.\"\n",
              "              style=\"display:none;\">\n",
              "        \n",
              "  <svg xmlns=\"http://www.w3.org/2000/svg\" height=\"24px\"viewBox=\"0 0 24 24\"\n",
              "       width=\"24px\">\n",
              "    <path d=\"M0 0h24v24H0V0z\" fill=\"none\"/>\n",
              "    <path d=\"M18.56 5.44l.94 2.06.94-2.06 2.06-.94-2.06-.94-.94-2.06-.94 2.06-2.06.94zm-11 1L8.5 8.5l.94-2.06 2.06-.94-2.06-.94L8.5 2.5l-.94 2.06-2.06.94zm10 10l.94 2.06.94-2.06 2.06-.94-2.06-.94-.94-2.06-.94 2.06-2.06.94z\"/><path d=\"M17.41 7.96l-1.37-1.37c-.4-.4-.92-.59-1.43-.59-.52 0-1.04.2-1.43.59L10.3 9.45l-7.72 7.72c-.78.78-.78 2.05 0 2.83L4 21.41c.39.39.9.59 1.41.59.51 0 1.02-.2 1.41-.59l7.78-7.78 2.81-2.81c.8-.78.8-2.07 0-2.86zM5.41 20L4 18.59l7.72-7.72 1.47 1.35L5.41 20z\"/>\n",
              "  </svg>\n",
              "      </button>\n",
              "      \n",
              "  <style>\n",
              "    .colab-df-container {\n",
              "      display:flex;\n",
              "      flex-wrap:wrap;\n",
              "      gap: 12px;\n",
              "    }\n",
              "\n",
              "    .colab-df-convert {\n",
              "      background-color: #E8F0FE;\n",
              "      border: none;\n",
              "      border-radius: 50%;\n",
              "      cursor: pointer;\n",
              "      display: none;\n",
              "      fill: #1967D2;\n",
              "      height: 32px;\n",
              "      padding: 0 0 0 0;\n",
              "      width: 32px;\n",
              "    }\n",
              "\n",
              "    .colab-df-convert:hover {\n",
              "      background-color: #E2EBFA;\n",
              "      box-shadow: 0px 1px 2px rgba(60, 64, 67, 0.3), 0px 1px 3px 1px rgba(60, 64, 67, 0.15);\n",
              "      fill: #174EA6;\n",
              "    }\n",
              "\n",
              "    [theme=dark] .colab-df-convert {\n",
              "      background-color: #3B4455;\n",
              "      fill: #D2E3FC;\n",
              "    }\n",
              "\n",
              "    [theme=dark] .colab-df-convert:hover {\n",
              "      background-color: #434B5C;\n",
              "      box-shadow: 0px 1px 3px 1px rgba(0, 0, 0, 0.15);\n",
              "      filter: drop-shadow(0px 1px 2px rgba(0, 0, 0, 0.3));\n",
              "      fill: #FFFFFF;\n",
              "    }\n",
              "  </style>\n",
              "\n",
              "      <script>\n",
              "        const buttonEl =\n",
              "          document.querySelector('#df-79d4f94c-c112-4e34-bed8-2b2f868293e6 button.colab-df-convert');\n",
              "        buttonEl.style.display =\n",
              "          google.colab.kernel.accessAllowed ? 'block' : 'none';\n",
              "\n",
              "        async function convertToInteractive(key) {\n",
              "          const element = document.querySelector('#df-79d4f94c-c112-4e34-bed8-2b2f868293e6');\n",
              "          const dataTable =\n",
              "            await google.colab.kernel.invokeFunction('convertToInteractive',\n",
              "                                                     [key], {});\n",
              "          if (!dataTable) return;\n",
              "\n",
              "          const docLinkHtml = 'Like what you see? Visit the ' +\n",
              "            '<a target=\"_blank\" href=https://colab.research.google.com/notebooks/data_table.ipynb>data table notebook</a>'\n",
              "            + ' to learn more about interactive tables.';\n",
              "          element.innerHTML = '';\n",
              "          dataTable['output_type'] = 'display_data';\n",
              "          await google.colab.output.renderOutput(dataTable, element);\n",
              "          const docLink = document.createElement('div');\n",
              "          docLink.innerHTML = docLinkHtml;\n",
              "          element.appendChild(docLink);\n",
              "        }\n",
              "      </script>\n",
              "    </div>\n",
              "  </div>\n",
              "  "
            ]
          },
          "metadata": {},
          "execution_count": 25
        }
      ]
    },
    {
      "cell_type": "code",
      "source": [
        "modelo_diamonds.intercept_"
      ],
      "metadata": {
        "colab": {
          "base_uri": "https://localhost:8080/"
        },
        "id": "Nn3guAY93esG",
        "outputId": "b803f43d-5d6f-4880-901b-5d81ce54037c"
      },
      "execution_count": 26,
      "outputs": [
        {
          "output_type": "execute_result",
          "data": {
            "text/plain": [
              "-12986.314694842127"
            ]
          },
          "metadata": {},
          "execution_count": 26
        }
      ]
    },
    {
      "cell_type": "code",
      "source": [
        "modelo_diamonds.score(X,y)"
      ],
      "metadata": {
        "colab": {
          "base_uri": "https://localhost:8080/"
        },
        "id": "mGv1tHG6pEVv",
        "outputId": "3e9c3d38-c707-442e-e4a4-19c09b0b686c"
      },
      "execution_count": 27,
      "outputs": [
        {
          "output_type": "execute_result",
          "data": {
            "text/plain": [
              "0.8882621300895297"
            ]
          },
          "metadata": {},
          "execution_count": 27
        }
      ]
    },
    {
      "cell_type": "code",
      "source": [
        "predict = modelo_diamonds.predict(df_rick_diamonds[['carat', 'cut', 'color', 'clarity', 'x', 'y', 'z']])"
      ],
      "metadata": {
        "id": "1nW_9qUNejcg"
      },
      "execution_count": 29,
      "outputs": []
    },
    {
      "cell_type": "code",
      "source": [
        "df_rick_diamonds['price_predicted'] = predict\n",
        "df_rick_diamonds"
      ],
      "metadata": {
        "colab": {
          "base_uri": "https://localhost:8080/",
          "height": 424
        },
        "id": "7xDABopOXt3W",
        "outputId": "b29aded5-e579-4b92-9eaf-00fbb6425aac"
      },
      "execution_count": 30,
      "outputs": [
        {
          "output_type": "execute_result",
          "data": {
            "text/plain": [
              "      carat  cut  color  clarity  depth  table    x    y    z  price_predicted\n",
              "0      0.91    2      2        1  63.40  57.00 6.10 6.18 3.89         2,084.80\n",
              "1      0.38    1      4        3  60.30  61.00 4.68 4.71 2.83        -1,026.62\n",
              "2      0.52    4      2        3  61.80  56.00 5.19 5.16 3.20           149.47\n",
              "3      1.10    4      3        4  61.30  56.00 6.65 6.69 4.09         7,616.89\n",
              "4      2.28    4      3        1  61.60  57.00 8.44 8.37 5.18        16,387.21\n",
              "...     ...  ...    ...      ...    ...    ...  ...  ...  ...              ...\n",
              "4995   0.30    2      6        1  62.20  59.00 4.25 4.30 2.66        -2,573.29\n",
              "4996   0.51    4      4        5  61.90  56.00 5.09 5.14 3.16         2,739.01\n",
              "4997   1.01    2      4        2  60.60  60.00 6.37 6.43 3.88         5,006.38\n",
              "4998   0.31    4      4        6  62.10  56.00 4.35 4.38 2.71         1,305.09\n",
              "4999   0.33    4      5        3  61.80  55.00 4.45 4.48 2.76          -539.44\n",
              "\n",
              "[5000 rows x 10 columns]"
            ],
            "text/html": [
              "\n",
              "  <div id=\"df-e9e26acd-8a17-429a-97ef-cc6fdf0fa1cd\">\n",
              "    <div class=\"colab-df-container\">\n",
              "      <div>\n",
              "<style scoped>\n",
              "    .dataframe tbody tr th:only-of-type {\n",
              "        vertical-align: middle;\n",
              "    }\n",
              "\n",
              "    .dataframe tbody tr th {\n",
              "        vertical-align: top;\n",
              "    }\n",
              "\n",
              "    .dataframe thead th {\n",
              "        text-align: right;\n",
              "    }\n",
              "</style>\n",
              "<table border=\"1\" class=\"dataframe\">\n",
              "  <thead>\n",
              "    <tr style=\"text-align: right;\">\n",
              "      <th></th>\n",
              "      <th>carat</th>\n",
              "      <th>cut</th>\n",
              "      <th>color</th>\n",
              "      <th>clarity</th>\n",
              "      <th>depth</th>\n",
              "      <th>table</th>\n",
              "      <th>x</th>\n",
              "      <th>y</th>\n",
              "      <th>z</th>\n",
              "      <th>price_predicted</th>\n",
              "    </tr>\n",
              "  </thead>\n",
              "  <tbody>\n",
              "    <tr>\n",
              "      <th>0</th>\n",
              "      <td>0.91</td>\n",
              "      <td>2</td>\n",
              "      <td>2</td>\n",
              "      <td>1</td>\n",
              "      <td>63.40</td>\n",
              "      <td>57.00</td>\n",
              "      <td>6.10</td>\n",
              "      <td>6.18</td>\n",
              "      <td>3.89</td>\n",
              "      <td>2,084.80</td>\n",
              "    </tr>\n",
              "    <tr>\n",
              "      <th>1</th>\n",
              "      <td>0.38</td>\n",
              "      <td>1</td>\n",
              "      <td>4</td>\n",
              "      <td>3</td>\n",
              "      <td>60.30</td>\n",
              "      <td>61.00</td>\n",
              "      <td>4.68</td>\n",
              "      <td>4.71</td>\n",
              "      <td>2.83</td>\n",
              "      <td>-1,026.62</td>\n",
              "    </tr>\n",
              "    <tr>\n",
              "      <th>2</th>\n",
              "      <td>0.52</td>\n",
              "      <td>4</td>\n",
              "      <td>2</td>\n",
              "      <td>3</td>\n",
              "      <td>61.80</td>\n",
              "      <td>56.00</td>\n",
              "      <td>5.19</td>\n",
              "      <td>5.16</td>\n",
              "      <td>3.20</td>\n",
              "      <td>149.47</td>\n",
              "    </tr>\n",
              "    <tr>\n",
              "      <th>3</th>\n",
              "      <td>1.10</td>\n",
              "      <td>4</td>\n",
              "      <td>3</td>\n",
              "      <td>4</td>\n",
              "      <td>61.30</td>\n",
              "      <td>56.00</td>\n",
              "      <td>6.65</td>\n",
              "      <td>6.69</td>\n",
              "      <td>4.09</td>\n",
              "      <td>7,616.89</td>\n",
              "    </tr>\n",
              "    <tr>\n",
              "      <th>4</th>\n",
              "      <td>2.28</td>\n",
              "      <td>4</td>\n",
              "      <td>3</td>\n",
              "      <td>1</td>\n",
              "      <td>61.60</td>\n",
              "      <td>57.00</td>\n",
              "      <td>8.44</td>\n",
              "      <td>8.37</td>\n",
              "      <td>5.18</td>\n",
              "      <td>16,387.21</td>\n",
              "    </tr>\n",
              "    <tr>\n",
              "      <th>...</th>\n",
              "      <td>...</td>\n",
              "      <td>...</td>\n",
              "      <td>...</td>\n",
              "      <td>...</td>\n",
              "      <td>...</td>\n",
              "      <td>...</td>\n",
              "      <td>...</td>\n",
              "      <td>...</td>\n",
              "      <td>...</td>\n",
              "      <td>...</td>\n",
              "    </tr>\n",
              "    <tr>\n",
              "      <th>4995</th>\n",
              "      <td>0.30</td>\n",
              "      <td>2</td>\n",
              "      <td>6</td>\n",
              "      <td>1</td>\n",
              "      <td>62.20</td>\n",
              "      <td>59.00</td>\n",
              "      <td>4.25</td>\n",
              "      <td>4.30</td>\n",
              "      <td>2.66</td>\n",
              "      <td>-2,573.29</td>\n",
              "    </tr>\n",
              "    <tr>\n",
              "      <th>4996</th>\n",
              "      <td>0.51</td>\n",
              "      <td>4</td>\n",
              "      <td>4</td>\n",
              "      <td>5</td>\n",
              "      <td>61.90</td>\n",
              "      <td>56.00</td>\n",
              "      <td>5.09</td>\n",
              "      <td>5.14</td>\n",
              "      <td>3.16</td>\n",
              "      <td>2,739.01</td>\n",
              "    </tr>\n",
              "    <tr>\n",
              "      <th>4997</th>\n",
              "      <td>1.01</td>\n",
              "      <td>2</td>\n",
              "      <td>4</td>\n",
              "      <td>2</td>\n",
              "      <td>60.60</td>\n",
              "      <td>60.00</td>\n",
              "      <td>6.37</td>\n",
              "      <td>6.43</td>\n",
              "      <td>3.88</td>\n",
              "      <td>5,006.38</td>\n",
              "    </tr>\n",
              "    <tr>\n",
              "      <th>4998</th>\n",
              "      <td>0.31</td>\n",
              "      <td>4</td>\n",
              "      <td>4</td>\n",
              "      <td>6</td>\n",
              "      <td>62.10</td>\n",
              "      <td>56.00</td>\n",
              "      <td>4.35</td>\n",
              "      <td>4.38</td>\n",
              "      <td>2.71</td>\n",
              "      <td>1,305.09</td>\n",
              "    </tr>\n",
              "    <tr>\n",
              "      <th>4999</th>\n",
              "      <td>0.33</td>\n",
              "      <td>4</td>\n",
              "      <td>5</td>\n",
              "      <td>3</td>\n",
              "      <td>61.80</td>\n",
              "      <td>55.00</td>\n",
              "      <td>4.45</td>\n",
              "      <td>4.48</td>\n",
              "      <td>2.76</td>\n",
              "      <td>-539.44</td>\n",
              "    </tr>\n",
              "  </tbody>\n",
              "</table>\n",
              "<p>5000 rows × 10 columns</p>\n",
              "</div>\n",
              "      <button class=\"colab-df-convert\" onclick=\"convertToInteractive('df-e9e26acd-8a17-429a-97ef-cc6fdf0fa1cd')\"\n",
              "              title=\"Convert this dataframe to an interactive table.\"\n",
              "              style=\"display:none;\">\n",
              "        \n",
              "  <svg xmlns=\"http://www.w3.org/2000/svg\" height=\"24px\"viewBox=\"0 0 24 24\"\n",
              "       width=\"24px\">\n",
              "    <path d=\"M0 0h24v24H0V0z\" fill=\"none\"/>\n",
              "    <path d=\"M18.56 5.44l.94 2.06.94-2.06 2.06-.94-2.06-.94-.94-2.06-.94 2.06-2.06.94zm-11 1L8.5 8.5l.94-2.06 2.06-.94-2.06-.94L8.5 2.5l-.94 2.06-2.06.94zm10 10l.94 2.06.94-2.06 2.06-.94-2.06-.94-.94-2.06-.94 2.06-2.06.94z\"/><path d=\"M17.41 7.96l-1.37-1.37c-.4-.4-.92-.59-1.43-.59-.52 0-1.04.2-1.43.59L10.3 9.45l-7.72 7.72c-.78.78-.78 2.05 0 2.83L4 21.41c.39.39.9.59 1.41.59.51 0 1.02-.2 1.41-.59l7.78-7.78 2.81-2.81c.8-.78.8-2.07 0-2.86zM5.41 20L4 18.59l7.72-7.72 1.47 1.35L5.41 20z\"/>\n",
              "  </svg>\n",
              "      </button>\n",
              "      \n",
              "  <style>\n",
              "    .colab-df-container {\n",
              "      display:flex;\n",
              "      flex-wrap:wrap;\n",
              "      gap: 12px;\n",
              "    }\n",
              "\n",
              "    .colab-df-convert {\n",
              "      background-color: #E8F0FE;\n",
              "      border: none;\n",
              "      border-radius: 50%;\n",
              "      cursor: pointer;\n",
              "      display: none;\n",
              "      fill: #1967D2;\n",
              "      height: 32px;\n",
              "      padding: 0 0 0 0;\n",
              "      width: 32px;\n",
              "    }\n",
              "\n",
              "    .colab-df-convert:hover {\n",
              "      background-color: #E2EBFA;\n",
              "      box-shadow: 0px 1px 2px rgba(60, 64, 67, 0.3), 0px 1px 3px 1px rgba(60, 64, 67, 0.15);\n",
              "      fill: #174EA6;\n",
              "    }\n",
              "\n",
              "    [theme=dark] .colab-df-convert {\n",
              "      background-color: #3B4455;\n",
              "      fill: #D2E3FC;\n",
              "    }\n",
              "\n",
              "    [theme=dark] .colab-df-convert:hover {\n",
              "      background-color: #434B5C;\n",
              "      box-shadow: 0px 1px 3px 1px rgba(0, 0, 0, 0.15);\n",
              "      filter: drop-shadow(0px 1px 2px rgba(0, 0, 0, 0.3));\n",
              "      fill: #FFFFFF;\n",
              "    }\n",
              "  </style>\n",
              "\n",
              "      <script>\n",
              "        const buttonEl =\n",
              "          document.querySelector('#df-e9e26acd-8a17-429a-97ef-cc6fdf0fa1cd button.colab-df-convert');\n",
              "        buttonEl.style.display =\n",
              "          google.colab.kernel.accessAllowed ? 'block' : 'none';\n",
              "\n",
              "        async function convertToInteractive(key) {\n",
              "          const element = document.querySelector('#df-e9e26acd-8a17-429a-97ef-cc6fdf0fa1cd');\n",
              "          const dataTable =\n",
              "            await google.colab.kernel.invokeFunction('convertToInteractive',\n",
              "                                                     [key], {});\n",
              "          if (!dataTable) return;\n",
              "\n",
              "          const docLinkHtml = 'Like what you see? Visit the ' +\n",
              "            '<a target=\"_blank\" href=https://colab.research.google.com/notebooks/data_table.ipynb>data table notebook</a>'\n",
              "            + ' to learn more about interactive tables.';\n",
              "          element.innerHTML = '';\n",
              "          dataTable['output_type'] = 'display_data';\n",
              "          await google.colab.output.renderOutput(dataTable, element);\n",
              "          const docLink = document.createElement('div');\n",
              "          docLink.innerHTML = docLinkHtml;\n",
              "          element.appendChild(docLink);\n",
              "        }\n",
              "      </script>\n",
              "    </div>\n",
              "  </div>\n",
              "  "
            ]
          },
          "metadata": {},
          "execution_count": 30
        }
      ]
    },
    {
      "cell_type": "code",
      "source": [
        "mask_low_values = df_rick_diamonds['price_predicted'] < df_diamonds['price'].min()\n",
        "df_rick_diamonds.loc[mask_low_values,'price_predicted']=df_diamonds['price'].min()"
      ],
      "metadata": {
        "id": "78JcOmoJRmyM"
      },
      "execution_count": 31,
      "outputs": []
    },
    {
      "cell_type": "markdown",
      "source": [
        "##Save results"
      ],
      "metadata": {
        "id": "xGUnlwJEJrVO"
      }
    },
    {
      "cell_type": "code",
      "source": [
        "df_rick_diamonds.to_csv('diamonds_results.csv')"
      ],
      "metadata": {
        "id": "-GsjvS6CFnGv"
      },
      "execution_count": 41,
      "outputs": []
    },
    {
      "cell_type": "code",
      "source": [
        "from google.colab import files\n",
        "files.download('diamonds_results.csv')"
      ],
      "metadata": {
        "id": "U0zwa5KdFnJw"
      },
      "execution_count": null,
      "outputs": []
    },
    {
      "cell_type": "markdown",
      "source": [
        "## Version documentation\n",
        "\n",
        "  - Prediction with historical average price, RMSE = 3980.713882502374\n",
        "\n",
        "  - Prediction with historical price median, RMSE = 4255.533080942974\n",
        "\n",
        "  - Prediction with simple linear regression model using the variable 'carat', RMSE = 1605.15175707362\n",
        "\n",
        "  - Prediction with multiple linear regression model using variables 'carat' and 'cut', RMSE = 1578.5538450152076 (a negative value, -201.82, appeared in the column 'price_predicted')\n",
        "\n",
        "**Results with low values correction**:\n",
        "\n",
        "  - Prediction with multiple linear regression model using variables 'carat' and 'cut', RMSE = 1560.3875526620348\n",
        "\n",
        "  - Prediction with multiple linear regression model using variables 'carat', 'cut' and 'color', RMSE = 1494.3832889738444\n",
        "\n",
        "  - Prediction with multiple linear regression model using variables 'carat', 'cut', 'color' and 'clarity', RMSE = 1226.9362366819055\n",
        "\n",
        "  - Prediction with multiple linear regression model using variables 'carat', 'cut', 'color', 'clarity' and 'x', RMSE = 1240.4099341776305\n",
        "\n",
        "**Results after drop 18 rows with value 0 in columns 'x', 'y' or 'z' (18 out of 48940):**\n",
        "\n",
        "  - Prediction with multiple linear regression model using variables 'carat', 'cut', 'color', 'clarity' and 'x', RMSE = 1242.9898663407414\n",
        "\n",
        "  - Prediction with multiple linear regression model using variables 'carat', 'cut', 'color', 'clarity', 'x' and 'y', RMSE = 1242.601308595802\n",
        "\n",
        "  - Prediction with multiple linear regression model using variables 'carat', 'cut', 'color', 'clarity', 'x', 'y' and 'z', RMSE = 1243.017142456451\n",
        "\n",
        "  - Prediction with multiple linear regression model using variables 'carat', 'cut', 'color' and 'clarity', RMSE = 1227.0395614594963\n",
        "\n",
        "**Drop the 18 rows didn't bring better results, so undo it.**\n",
        "\n",
        "  - Prediction with multiple linear regression model using variables 'carat', 'cut', 'color' and 'clarity', RMSE = 1226.9362366819055\n",
        "\n",
        "**Filter on carat size (model applied to all df_rick_diamonds):**\n",
        "  \n",
        "  **Carat greater than or equal to the median:**\n",
        "\n",
        "  - Prediction with multiple linear regression model using variables 'carat', 'cut', 'color', 'clarity', 'x', 'y' and 'z', RMSE = 1120.951108234914\n",
        "\n",
        "  - Prediction with multiple linear regression model using variables 'carat', 'color', 'clarity', 'x', RMSE = 1119.051685118186\n",
        "  \n",
        "  **Carat greater than or equal to 90% of the median:**\n",
        "  \n",
        "  Best model so far: Prediction with multiple Linear Regression model using variables 'carat', 'x', 'y', 'z', 'cut', 'color', 'clarity', RMSE = 1115.2815460356976\n",
        "\n",
        "  Prediction with **Random Forests Regression** using variables 'carat', 'x', 'y', 'z', 'cut', 'color', 'clarity', 'table', **RMSE = 543.5631396740744**\n"
      ],
      "metadata": {
        "id": "yQ5M0NmxRxPA"
      }
    },
    {
      "cell_type": "code",
      "source": [],
      "metadata": {
        "id": "LmHU5WwN6c2N"
      },
      "execution_count": null,
      "outputs": []
    }
  ]
}